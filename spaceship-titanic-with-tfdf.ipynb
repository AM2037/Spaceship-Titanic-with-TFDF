{
 "cells": [
  {
   "cell_type": "markdown",
   "id": "349d376f",
   "metadata": {
    "id": "Ck00s7mTmnjA",
    "papermill": {
     "duration": 0.017101,
     "end_time": "2023-11-14T00:39:50.839097",
     "exception": false,
     "start_time": "2023-11-14T00:39:50.821996",
     "status": "completed"
    },
    "tags": []
   },
   "source": [
    "# Spaceship Titanic Dataset with TensorFlow Decision Forests"
   ]
  },
  {
   "cell_type": "markdown",
   "id": "0e8fcdea",
   "metadata": {
    "id": "62leGXylmnjF",
    "papermill": {
     "duration": 0.01586,
     "end_time": "2023-11-14T00:39:50.871632",
     "exception": false,
     "start_time": "2023-11-14T00:39:50.855772",
     "status": "completed"
    },
    "tags": []
   },
   "source": [
    "This notebook walks you through how to train a baseline Random Forest model using TensorFlow Decision Forests on the Spaceship Titanic dataset made available for this competition.\n",
    "\n",
    "Roughly, the code will look as follows:\n",
    "\n",
    "```\n",
    "import tensorflow_decision_forests as tfdf\n",
    "import pandas as pd\n",
    "\n",
    "dataset = pd.read_csv(\"project/dataset.csv\")\n",
    "tf_dataset = tfdf.keras.pd_dataframe_to_tf_dataset(dataset, label=\"my_label\")\n",
    "\n",
    "model = tfdf.keras.RandomForestModel()\n",
    "model.fit(tf_dataset)\n",
    "\n",
    "print(model.summary())\n",
    "```\n",
    "\n",
    "Decision Forests are a family of tree-based models including Random Forests and Gradient Boosted Trees. They are the best place to start when working with tabular data, and will often outperform (or provide a strong baseline) before you begin experimenting with neural networks."
   ]
  },
  {
   "cell_type": "markdown",
   "id": "29da4b4a",
   "metadata": {
    "id": "UPNzfVOEmnjH",
    "papermill": {
     "duration": 0.015814,
     "end_time": "2023-11-14T00:39:50.905516",
     "exception": false,
     "start_time": "2023-11-14T00:39:50.889702",
     "status": "completed"
    },
    "tags": []
   },
   "source": [
    "# Import the library"
   ]
  },
  {
   "cell_type": "code",
   "execution_count": 1,
   "id": "e772a066",
   "metadata": {
    "execution": {
     "iopub.execute_input": "2023-11-14T00:39:50.942115Z",
     "iopub.status.busy": "2023-11-14T00:39:50.941105Z",
     "iopub.status.idle": "2023-11-14T00:40:03.560088Z",
     "shell.execute_reply": "2023-11-14T00:40:03.557999Z"
    },
    "id": "mmwBzpblmnjH",
    "papermill": {
     "duration": 12.640789,
     "end_time": "2023-11-14T00:40:03.563842",
     "exception": false,
     "start_time": "2023-11-14T00:39:50.923053",
     "status": "completed"
    },
    "tags": []
   },
   "outputs": [],
   "source": [
    "import tensorflow as tf\n",
    "import tensorflow_decision_forests as tfdf\n",
    "import pandas as pd\n",
    "import numpy as np\n",
    "import seaborn as sns\n",
    "import matplotlib.pyplot as plt"
   ]
  },
  {
   "cell_type": "code",
   "execution_count": 2,
   "id": "f247f21c",
   "metadata": {
    "execution": {
     "iopub.execute_input": "2023-11-14T00:40:03.599645Z",
     "iopub.status.busy": "2023-11-14T00:40:03.597632Z",
     "iopub.status.idle": "2023-11-14T00:40:03.607419Z",
     "shell.execute_reply": "2023-11-14T00:40:03.605450Z"
    },
    "id": "grAO86gTmnjJ",
    "papermill": {
     "duration": 0.030474,
     "end_time": "2023-11-14T00:40:03.610441",
     "exception": false,
     "start_time": "2023-11-14T00:40:03.579967",
     "status": "completed"
    },
    "tags": []
   },
   "outputs": [
    {
     "name": "stdout",
     "output_type": "stream",
     "text": [
      "TensorFlow v2.11.0\n",
      "TensorFlow Decision Forests v1.2.0\n"
     ]
    }
   ],
   "source": [
    "print(\"TensorFlow v\" + tf.__version__)\n",
    "print(\"TensorFlow Decision Forests v\" + tfdf.__version__)"
   ]
  },
  {
   "cell_type": "markdown",
   "id": "1bb2ba26",
   "metadata": {
    "id": "6sHFpppPmnjJ",
    "papermill": {
     "duration": 0.015063,
     "end_time": "2023-11-14T00:40:03.641190",
     "exception": false,
     "start_time": "2023-11-14T00:40:03.626127",
     "status": "completed"
    },
    "tags": []
   },
   "source": [
    "# Load the Dataset"
   ]
  },
  {
   "cell_type": "code",
   "execution_count": 3,
   "id": "78a1281b",
   "metadata": {
    "execution": {
     "iopub.execute_input": "2023-11-14T00:40:03.675515Z",
     "iopub.status.busy": "2023-11-14T00:40:03.674425Z",
     "iopub.status.idle": "2023-11-14T00:40:03.756586Z",
     "shell.execute_reply": "2023-11-14T00:40:03.755133Z"
    },
    "id": "c1P3Y3a7mnjL",
    "papermill": {
     "duration": 0.102829,
     "end_time": "2023-11-14T00:40:03.759785",
     "exception": false,
     "start_time": "2023-11-14T00:40:03.656956",
     "status": "completed"
    },
    "tags": []
   },
   "outputs": [
    {
     "name": "stdout",
     "output_type": "stream",
     "text": [
      "Full train dataset shape is (8693, 14)\n"
     ]
    }
   ],
   "source": [
    "# Load a dataset into a Pandas Dataframe\n",
    "dataset_df = pd.read_csv('/kaggle/input/spaceship-titanic/train.csv')\n",
    "print(\"Full train dataset shape is {}\".format(dataset_df.shape))"
   ]
  },
  {
   "cell_type": "markdown",
   "id": "03b767c0",
   "metadata": {
    "id": "cEd92zhJmnjL",
    "papermill": {
     "duration": 0.016142,
     "end_time": "2023-11-14T00:40:03.791535",
     "exception": false,
     "start_time": "2023-11-14T00:40:03.775393",
     "status": "completed"
    },
    "tags": []
   },
   "source": [
    "The data is composed of 14 columns and 8693 entries. We can see all 14 dimensions of our dataset by printing out the first 5 entries using the following code:"
   ]
  },
  {
   "cell_type": "code",
   "execution_count": 4,
   "id": "57111def",
   "metadata": {
    "execution": {
     "iopub.execute_input": "2023-11-14T00:40:03.825481Z",
     "iopub.status.busy": "2023-11-14T00:40:03.824931Z",
     "iopub.status.idle": "2023-11-14T00:40:03.875044Z",
     "shell.execute_reply": "2023-11-14T00:40:03.873825Z"
    },
    "id": "nCx3PE1xmnjM",
    "papermill": {
     "duration": 0.070446,
     "end_time": "2023-11-14T00:40:03.877825",
     "exception": false,
     "start_time": "2023-11-14T00:40:03.807379",
     "status": "completed"
    },
    "tags": []
   },
   "outputs": [
    {
     "data": {
      "text/html": [
       "<div>\n",
       "<style scoped>\n",
       "    .dataframe tbody tr th:only-of-type {\n",
       "        vertical-align: middle;\n",
       "    }\n",
       "\n",
       "    .dataframe tbody tr th {\n",
       "        vertical-align: top;\n",
       "    }\n",
       "\n",
       "    .dataframe thead th {\n",
       "        text-align: right;\n",
       "    }\n",
       "</style>\n",
       "<table border=\"1\" class=\"dataframe\">\n",
       "  <thead>\n",
       "    <tr style=\"text-align: right;\">\n",
       "      <th></th>\n",
       "      <th>PassengerId</th>\n",
       "      <th>HomePlanet</th>\n",
       "      <th>CryoSleep</th>\n",
       "      <th>Cabin</th>\n",
       "      <th>Destination</th>\n",
       "      <th>Age</th>\n",
       "      <th>VIP</th>\n",
       "      <th>RoomService</th>\n",
       "      <th>FoodCourt</th>\n",
       "      <th>ShoppingMall</th>\n",
       "      <th>Spa</th>\n",
       "      <th>VRDeck</th>\n",
       "      <th>Name</th>\n",
       "      <th>Transported</th>\n",
       "    </tr>\n",
       "  </thead>\n",
       "  <tbody>\n",
       "    <tr>\n",
       "      <th>0</th>\n",
       "      <td>0001_01</td>\n",
       "      <td>Europa</td>\n",
       "      <td>False</td>\n",
       "      <td>B/0/P</td>\n",
       "      <td>TRAPPIST-1e</td>\n",
       "      <td>39.0</td>\n",
       "      <td>False</td>\n",
       "      <td>0.0</td>\n",
       "      <td>0.0</td>\n",
       "      <td>0.0</td>\n",
       "      <td>0.0</td>\n",
       "      <td>0.0</td>\n",
       "      <td>Maham Ofracculy</td>\n",
       "      <td>False</td>\n",
       "    </tr>\n",
       "    <tr>\n",
       "      <th>1</th>\n",
       "      <td>0002_01</td>\n",
       "      <td>Earth</td>\n",
       "      <td>False</td>\n",
       "      <td>F/0/S</td>\n",
       "      <td>TRAPPIST-1e</td>\n",
       "      <td>24.0</td>\n",
       "      <td>False</td>\n",
       "      <td>109.0</td>\n",
       "      <td>9.0</td>\n",
       "      <td>25.0</td>\n",
       "      <td>549.0</td>\n",
       "      <td>44.0</td>\n",
       "      <td>Juanna Vines</td>\n",
       "      <td>True</td>\n",
       "    </tr>\n",
       "    <tr>\n",
       "      <th>2</th>\n",
       "      <td>0003_01</td>\n",
       "      <td>Europa</td>\n",
       "      <td>False</td>\n",
       "      <td>A/0/S</td>\n",
       "      <td>TRAPPIST-1e</td>\n",
       "      <td>58.0</td>\n",
       "      <td>True</td>\n",
       "      <td>43.0</td>\n",
       "      <td>3576.0</td>\n",
       "      <td>0.0</td>\n",
       "      <td>6715.0</td>\n",
       "      <td>49.0</td>\n",
       "      <td>Altark Susent</td>\n",
       "      <td>False</td>\n",
       "    </tr>\n",
       "    <tr>\n",
       "      <th>3</th>\n",
       "      <td>0003_02</td>\n",
       "      <td>Europa</td>\n",
       "      <td>False</td>\n",
       "      <td>A/0/S</td>\n",
       "      <td>TRAPPIST-1e</td>\n",
       "      <td>33.0</td>\n",
       "      <td>False</td>\n",
       "      <td>0.0</td>\n",
       "      <td>1283.0</td>\n",
       "      <td>371.0</td>\n",
       "      <td>3329.0</td>\n",
       "      <td>193.0</td>\n",
       "      <td>Solam Susent</td>\n",
       "      <td>False</td>\n",
       "    </tr>\n",
       "    <tr>\n",
       "      <th>4</th>\n",
       "      <td>0004_01</td>\n",
       "      <td>Earth</td>\n",
       "      <td>False</td>\n",
       "      <td>F/1/S</td>\n",
       "      <td>TRAPPIST-1e</td>\n",
       "      <td>16.0</td>\n",
       "      <td>False</td>\n",
       "      <td>303.0</td>\n",
       "      <td>70.0</td>\n",
       "      <td>151.0</td>\n",
       "      <td>565.0</td>\n",
       "      <td>2.0</td>\n",
       "      <td>Willy Santantines</td>\n",
       "      <td>True</td>\n",
       "    </tr>\n",
       "  </tbody>\n",
       "</table>\n",
       "</div>"
      ],
      "text/plain": [
       "  PassengerId HomePlanet CryoSleep  Cabin  Destination   Age    VIP  \\\n",
       "0     0001_01     Europa     False  B/0/P  TRAPPIST-1e  39.0  False   \n",
       "1     0002_01      Earth     False  F/0/S  TRAPPIST-1e  24.0  False   \n",
       "2     0003_01     Europa     False  A/0/S  TRAPPIST-1e  58.0   True   \n",
       "3     0003_02     Europa     False  A/0/S  TRAPPIST-1e  33.0  False   \n",
       "4     0004_01      Earth     False  F/1/S  TRAPPIST-1e  16.0  False   \n",
       "\n",
       "   RoomService  FoodCourt  ShoppingMall     Spa  VRDeck               Name  \\\n",
       "0          0.0        0.0           0.0     0.0     0.0    Maham Ofracculy   \n",
       "1        109.0        9.0          25.0   549.0    44.0       Juanna Vines   \n",
       "2         43.0     3576.0           0.0  6715.0    49.0      Altark Susent   \n",
       "3          0.0     1283.0         371.0  3329.0   193.0       Solam Susent   \n",
       "4        303.0       70.0         151.0   565.0     2.0  Willy Santantines   \n",
       "\n",
       "   Transported  \n",
       "0        False  \n",
       "1         True  \n",
       "2        False  \n",
       "3        False  \n",
       "4         True  "
      ]
     },
     "execution_count": 4,
     "metadata": {},
     "output_type": "execute_result"
    }
   ],
   "source": [
    "# Display the first 5 examples\n",
    "dataset_df.head(5)"
   ]
  },
  {
   "cell_type": "markdown",
   "id": "be564bcf",
   "metadata": {
    "id": "0-Euaq6dmnjN",
    "papermill": {
     "duration": 0.016377,
     "end_time": "2023-11-14T00:40:03.910523",
     "exception": false,
     "start_time": "2023-11-14T00:40:03.894146",
     "status": "completed"
    },
    "tags": []
   },
   "source": [
    "There are 12 feature columns. Using these features your model has to predict whether the passenger is rescued or not indicated by the column `Transported`."
   ]
  },
  {
   "cell_type": "markdown",
   "id": "1d89fba6",
   "metadata": {
    "id": "1-Ewr6XDmnjN",
    "papermill": {
     "duration": 0.015807,
     "end_time": "2023-11-14T00:40:03.942394",
     "exception": false,
     "start_time": "2023-11-14T00:40:03.926587",
     "status": "completed"
    },
    "tags": []
   },
   "source": [
    "# Let us quickly do a basic exploration of the dataset"
   ]
  },
  {
   "cell_type": "code",
   "execution_count": 5,
   "id": "b054f940",
   "metadata": {
    "execution": {
     "iopub.execute_input": "2023-11-14T00:40:03.977605Z",
     "iopub.status.busy": "2023-11-14T00:40:03.977135Z",
     "iopub.status.idle": "2023-11-14T00:40:04.032195Z",
     "shell.execute_reply": "2023-11-14T00:40:04.030428Z"
    },
    "id": "XjwG5wjfmnjO",
    "papermill": {
     "duration": 0.076873,
     "end_time": "2023-11-14T00:40:04.035514",
     "exception": false,
     "start_time": "2023-11-14T00:40:03.958641",
     "status": "completed"
    },
    "tags": []
   },
   "outputs": [
    {
     "data": {
      "text/html": [
       "<div>\n",
       "<style scoped>\n",
       "    .dataframe tbody tr th:only-of-type {\n",
       "        vertical-align: middle;\n",
       "    }\n",
       "\n",
       "    .dataframe tbody tr th {\n",
       "        vertical-align: top;\n",
       "    }\n",
       "\n",
       "    .dataframe thead th {\n",
       "        text-align: right;\n",
       "    }\n",
       "</style>\n",
       "<table border=\"1\" class=\"dataframe\">\n",
       "  <thead>\n",
       "    <tr style=\"text-align: right;\">\n",
       "      <th></th>\n",
       "      <th>Age</th>\n",
       "      <th>RoomService</th>\n",
       "      <th>FoodCourt</th>\n",
       "      <th>ShoppingMall</th>\n",
       "      <th>Spa</th>\n",
       "      <th>VRDeck</th>\n",
       "    </tr>\n",
       "  </thead>\n",
       "  <tbody>\n",
       "    <tr>\n",
       "      <th>count</th>\n",
       "      <td>8514.000000</td>\n",
       "      <td>8512.000000</td>\n",
       "      <td>8510.000000</td>\n",
       "      <td>8485.000000</td>\n",
       "      <td>8510.000000</td>\n",
       "      <td>8505.000000</td>\n",
       "    </tr>\n",
       "    <tr>\n",
       "      <th>mean</th>\n",
       "      <td>28.827930</td>\n",
       "      <td>224.687617</td>\n",
       "      <td>458.077203</td>\n",
       "      <td>173.729169</td>\n",
       "      <td>311.138778</td>\n",
       "      <td>304.854791</td>\n",
       "    </tr>\n",
       "    <tr>\n",
       "      <th>std</th>\n",
       "      <td>14.489021</td>\n",
       "      <td>666.717663</td>\n",
       "      <td>1611.489240</td>\n",
       "      <td>604.696458</td>\n",
       "      <td>1136.705535</td>\n",
       "      <td>1145.717189</td>\n",
       "    </tr>\n",
       "    <tr>\n",
       "      <th>min</th>\n",
       "      <td>0.000000</td>\n",
       "      <td>0.000000</td>\n",
       "      <td>0.000000</td>\n",
       "      <td>0.000000</td>\n",
       "      <td>0.000000</td>\n",
       "      <td>0.000000</td>\n",
       "    </tr>\n",
       "    <tr>\n",
       "      <th>25%</th>\n",
       "      <td>19.000000</td>\n",
       "      <td>0.000000</td>\n",
       "      <td>0.000000</td>\n",
       "      <td>0.000000</td>\n",
       "      <td>0.000000</td>\n",
       "      <td>0.000000</td>\n",
       "    </tr>\n",
       "    <tr>\n",
       "      <th>50%</th>\n",
       "      <td>27.000000</td>\n",
       "      <td>0.000000</td>\n",
       "      <td>0.000000</td>\n",
       "      <td>0.000000</td>\n",
       "      <td>0.000000</td>\n",
       "      <td>0.000000</td>\n",
       "    </tr>\n",
       "    <tr>\n",
       "      <th>75%</th>\n",
       "      <td>38.000000</td>\n",
       "      <td>47.000000</td>\n",
       "      <td>76.000000</td>\n",
       "      <td>27.000000</td>\n",
       "      <td>59.000000</td>\n",
       "      <td>46.000000</td>\n",
       "    </tr>\n",
       "    <tr>\n",
       "      <th>max</th>\n",
       "      <td>79.000000</td>\n",
       "      <td>14327.000000</td>\n",
       "      <td>29813.000000</td>\n",
       "      <td>23492.000000</td>\n",
       "      <td>22408.000000</td>\n",
       "      <td>24133.000000</td>\n",
       "    </tr>\n",
       "  </tbody>\n",
       "</table>\n",
       "</div>"
      ],
      "text/plain": [
       "               Age   RoomService     FoodCourt  ShoppingMall           Spa  \\\n",
       "count  8514.000000   8512.000000   8510.000000   8485.000000   8510.000000   \n",
       "mean     28.827930    224.687617    458.077203    173.729169    311.138778   \n",
       "std      14.489021    666.717663   1611.489240    604.696458   1136.705535   \n",
       "min       0.000000      0.000000      0.000000      0.000000      0.000000   \n",
       "25%      19.000000      0.000000      0.000000      0.000000      0.000000   \n",
       "50%      27.000000      0.000000      0.000000      0.000000      0.000000   \n",
       "75%      38.000000     47.000000     76.000000     27.000000     59.000000   \n",
       "max      79.000000  14327.000000  29813.000000  23492.000000  22408.000000   \n",
       "\n",
       "             VRDeck  \n",
       "count   8505.000000  \n",
       "mean     304.854791  \n",
       "std     1145.717189  \n",
       "min        0.000000  \n",
       "25%        0.000000  \n",
       "50%        0.000000  \n",
       "75%       46.000000  \n",
       "max    24133.000000  "
      ]
     },
     "execution_count": 5,
     "metadata": {},
     "output_type": "execute_result"
    }
   ],
   "source": [
    "dataset_df.describe()"
   ]
  },
  {
   "cell_type": "code",
   "execution_count": 6,
   "id": "87534f23",
   "metadata": {
    "execution": {
     "iopub.execute_input": "2023-11-14T00:40:04.071835Z",
     "iopub.status.busy": "2023-11-14T00:40:04.071251Z",
     "iopub.status.idle": "2023-11-14T00:40:04.107738Z",
     "shell.execute_reply": "2023-11-14T00:40:04.105740Z"
    },
    "id": "UmWpnVxQmnjO",
    "papermill": {
     "duration": 0.05936,
     "end_time": "2023-11-14T00:40:04.111759",
     "exception": false,
     "start_time": "2023-11-14T00:40:04.052399",
     "status": "completed"
    },
    "tags": []
   },
   "outputs": [
    {
     "name": "stdout",
     "output_type": "stream",
     "text": [
      "<class 'pandas.core.frame.DataFrame'>\n",
      "RangeIndex: 8693 entries, 0 to 8692\n",
      "Data columns (total 14 columns):\n",
      " #   Column        Non-Null Count  Dtype  \n",
      "---  ------        --------------  -----  \n",
      " 0   PassengerId   8693 non-null   object \n",
      " 1   HomePlanet    8492 non-null   object \n",
      " 2   CryoSleep     8476 non-null   object \n",
      " 3   Cabin         8494 non-null   object \n",
      " 4   Destination   8511 non-null   object \n",
      " 5   Age           8514 non-null   float64\n",
      " 6   VIP           8490 non-null   object \n",
      " 7   RoomService   8512 non-null   float64\n",
      " 8   FoodCourt     8510 non-null   float64\n",
      " 9   ShoppingMall  8485 non-null   float64\n",
      " 10  Spa           8510 non-null   float64\n",
      " 11  VRDeck        8505 non-null   float64\n",
      " 12  Name          8493 non-null   object \n",
      " 13  Transported   8693 non-null   bool   \n",
      "dtypes: bool(1), float64(6), object(7)\n",
      "memory usage: 891.5+ KB\n"
     ]
    }
   ],
   "source": [
    "dataset_df.info()"
   ]
  },
  {
   "cell_type": "markdown",
   "id": "5f8dd4fe",
   "metadata": {
    "id": "PYbIPVaCmnjO",
    "papermill": {
     "duration": 0.01667,
     "end_time": "2023-11-14T00:40:04.145509",
     "exception": false,
     "start_time": "2023-11-14T00:40:04.128839",
     "status": "completed"
    },
    "tags": []
   },
   "source": [
    "# Bar chart for label column: Transported\n",
    "\n"
   ]
  },
  {
   "cell_type": "code",
   "execution_count": 7,
   "id": "3cde65d1",
   "metadata": {
    "execution": {
     "iopub.execute_input": "2023-11-14T00:40:04.182325Z",
     "iopub.status.busy": "2023-11-14T00:40:04.181125Z",
     "iopub.status.idle": "2023-11-14T00:40:04.505621Z",
     "shell.execute_reply": "2023-11-14T00:40:04.504085Z"
    },
    "id": "DcaGweARmnjP",
    "papermill": {
     "duration": 0.346604,
     "end_time": "2023-11-14T00:40:04.508867",
     "exception": false,
     "start_time": "2023-11-14T00:40:04.162263",
     "status": "completed"
    },
    "tags": []
   },
   "outputs": [
    {
     "data": {
      "text/plain": [
       "<AxesSubplot:>"
      ]
     },
     "execution_count": 7,
     "metadata": {},
     "output_type": "execute_result"
    },
    {
     "data": {
      "image/png": "[encoded data removed]",
      "text/plain": [
       "<Figure size 640x480 with 1 Axes>"
      ]
     },
     "metadata": {},
     "output_type": "display_data"
    }
   ],
   "source": [
    "plot_df = dataset_df.Transported.value_counts()\n",
    "plot_df.plot(kind=\"bar\")"
   ]
  },
  {
   "cell_type": "markdown",
   "id": "ac56eb6d",
   "metadata": {
    "id": "LRO2hJlNmnjP",
    "papermill": {
     "duration": 0.017471,
     "end_time": "2023-11-14T00:40:04.544177",
     "exception": false,
     "start_time": "2023-11-14T00:40:04.526706",
     "status": "completed"
    },
    "tags": []
   },
   "source": [
    "# Numerical data distribution\n",
    "\n",
    "Let us plot all the numerical columns and their value counts:"
   ]
  },
  {
   "cell_type": "code",
   "execution_count": 8,
   "id": "f7417f97",
   "metadata": {
    "execution": {
     "iopub.execute_input": "2023-11-14T00:40:04.582445Z",
     "iopub.status.busy": "2023-11-14T00:40:04.581185Z",
     "iopub.status.idle": "2023-11-14T00:40:06.533021Z",
     "shell.execute_reply": "2023-11-14T00:40:06.531833Z"
    },
    "id": "lafxj4fkmnjQ",
    "papermill": {
     "duration": 1.975018,
     "end_time": "2023-11-14T00:40:06.537158",
     "exception": false,
     "start_time": "2023-11-14T00:40:04.562140",
     "status": "completed"
    },
    "tags": []
   },
   "outputs": [
    {
     "data": {
      "image/png": "[encoded data removed]",
      "text/plain": [
       "<Figure size 1000x1000 with 5 Axes>"
      ]
     },
     "metadata": {},
     "output_type": "display_data"
    }
   ],
   "source": [
    "fig, ax = plt.subplots(5,1,  figsize=(10, 10))\n",
    "plt.subplots_adjust(top = 2)\n",
    "\n",
    "sns.histplot(dataset_df['Age'], color='b', bins=50, ax=ax[0]);\n",
    "sns.histplot(dataset_df['FoodCourt'], color='b', bins=50, ax=ax[1]);\n",
    "sns.histplot(dataset_df['ShoppingMall'], color='b', bins=50, ax=ax[2]);\n",
    "sns.histplot(dataset_df['Spa'], color='b', bins=50, ax=ax[3]);\n",
    "sns.histplot(dataset_df['VRDeck'], color='b', bins=50, ax=ax[4]);"
   ]
  },
  {
   "cell_type": "markdown",
   "id": "43aebe70",
   "metadata": {
    "id": "Trlsxv1emnjQ",
    "papermill": {
     "duration": 0.018985,
     "end_time": "2023-11-14T00:40:06.575460",
     "exception": false,
     "start_time": "2023-11-14T00:40:06.556475",
     "status": "completed"
    },
    "tags": []
   },
   "source": [
    "# Prepare the dataset"
   ]
  },
  {
   "cell_type": "markdown",
   "id": "379f86f0",
   "metadata": {
    "id": "c-BLN1jcmnjQ",
    "papermill": {
     "duration": 0.019309,
     "end_time": "2023-11-14T00:40:06.614469",
     "exception": false,
     "start_time": "2023-11-14T00:40:06.595160",
     "status": "completed"
    },
    "tags": []
   },
   "source": [
    "We will drop both `PassengerId` and `Name` columns as they are not necessary for model training."
   ]
  },
  {
   "cell_type": "code",
   "execution_count": 9,
   "id": "c4238522",
   "metadata": {
    "execution": {
     "iopub.execute_input": "2023-11-14T00:40:06.656164Z",
     "iopub.status.busy": "2023-11-14T00:40:06.654319Z",
     "iopub.status.idle": "2023-11-14T00:40:06.685513Z",
     "shell.execute_reply": "2023-11-14T00:40:06.683762Z"
    },
    "id": "nftfBG67mnjR",
    "papermill": {
     "duration": 0.055178,
     "end_time": "2023-11-14T00:40:06.688571",
     "exception": false,
     "start_time": "2023-11-14T00:40:06.633393",
     "status": "completed"
    },
    "tags": []
   },
   "outputs": [
    {
     "data": {
      "text/html": [
       "<div>\n",
       "<style scoped>\n",
       "    .dataframe tbody tr th:only-of-type {\n",
       "        vertical-align: middle;\n",
       "    }\n",
       "\n",
       "    .dataframe tbody tr th {\n",
       "        vertical-align: top;\n",
       "    }\n",
       "\n",
       "    .dataframe thead th {\n",
       "        text-align: right;\n",
       "    }\n",
       "</style>\n",
       "<table border=\"1\" class=\"dataframe\">\n",
       "  <thead>\n",
       "    <tr style=\"text-align: right;\">\n",
       "      <th></th>\n",
       "      <th>HomePlanet</th>\n",
       "      <th>CryoSleep</th>\n",
       "      <th>Cabin</th>\n",
       "      <th>Destination</th>\n",
       "      <th>Age</th>\n",
       "      <th>VIP</th>\n",
       "      <th>RoomService</th>\n",
       "      <th>FoodCourt</th>\n",
       "      <th>ShoppingMall</th>\n",
       "      <th>Spa</th>\n",
       "      <th>VRDeck</th>\n",
       "      <th>Transported</th>\n",
       "    </tr>\n",
       "  </thead>\n",
       "  <tbody>\n",
       "    <tr>\n",
       "      <th>0</th>\n",
       "      <td>Europa</td>\n",
       "      <td>False</td>\n",
       "      <td>B/0/P</td>\n",
       "      <td>TRAPPIST-1e</td>\n",
       "      <td>39.0</td>\n",
       "      <td>False</td>\n",
       "      <td>0.0</td>\n",
       "      <td>0.0</td>\n",
       "      <td>0.0</td>\n",
       "      <td>0.0</td>\n",
       "      <td>0.0</td>\n",
       "      <td>False</td>\n",
       "    </tr>\n",
       "    <tr>\n",
       "      <th>1</th>\n",
       "      <td>Earth</td>\n",
       "      <td>False</td>\n",
       "      <td>F/0/S</td>\n",
       "      <td>TRAPPIST-1e</td>\n",
       "      <td>24.0</td>\n",
       "      <td>False</td>\n",
       "      <td>109.0</td>\n",
       "      <td>9.0</td>\n",
       "      <td>25.0</td>\n",
       "      <td>549.0</td>\n",
       "      <td>44.0</td>\n",
       "      <td>True</td>\n",
       "    </tr>\n",
       "    <tr>\n",
       "      <th>2</th>\n",
       "      <td>Europa</td>\n",
       "      <td>False</td>\n",
       "      <td>A/0/S</td>\n",
       "      <td>TRAPPIST-1e</td>\n",
       "      <td>58.0</td>\n",
       "      <td>True</td>\n",
       "      <td>43.0</td>\n",
       "      <td>3576.0</td>\n",
       "      <td>0.0</td>\n",
       "      <td>6715.0</td>\n",
       "      <td>49.0</td>\n",
       "      <td>False</td>\n",
       "    </tr>\n",
       "    <tr>\n",
       "      <th>3</th>\n",
       "      <td>Europa</td>\n",
       "      <td>False</td>\n",
       "      <td>A/0/S</td>\n",
       "      <td>TRAPPIST-1e</td>\n",
       "      <td>33.0</td>\n",
       "      <td>False</td>\n",
       "      <td>0.0</td>\n",
       "      <td>1283.0</td>\n",
       "      <td>371.0</td>\n",
       "      <td>3329.0</td>\n",
       "      <td>193.0</td>\n",
       "      <td>False</td>\n",
       "    </tr>\n",
       "    <tr>\n",
       "      <th>4</th>\n",
       "      <td>Earth</td>\n",
       "      <td>False</td>\n",
       "      <td>F/1/S</td>\n",
       "      <td>TRAPPIST-1e</td>\n",
       "      <td>16.0</td>\n",
       "      <td>False</td>\n",
       "      <td>303.0</td>\n",
       "      <td>70.0</td>\n",
       "      <td>151.0</td>\n",
       "      <td>565.0</td>\n",
       "      <td>2.0</td>\n",
       "      <td>True</td>\n",
       "    </tr>\n",
       "  </tbody>\n",
       "</table>\n",
       "</div>"
      ],
      "text/plain": [
       "  HomePlanet CryoSleep  Cabin  Destination   Age    VIP  RoomService  \\\n",
       "0     Europa     False  B/0/P  TRAPPIST-1e  39.0  False          0.0   \n",
       "1      Earth     False  F/0/S  TRAPPIST-1e  24.0  False        109.0   \n",
       "2     Europa     False  A/0/S  TRAPPIST-1e  58.0   True         43.0   \n",
       "3     Europa     False  A/0/S  TRAPPIST-1e  33.0  False          0.0   \n",
       "4      Earth     False  F/1/S  TRAPPIST-1e  16.0  False        303.0   \n",
       "\n",
       "   FoodCourt  ShoppingMall     Spa  VRDeck  Transported  \n",
       "0        0.0           0.0     0.0     0.0        False  \n",
       "1        9.0          25.0   549.0    44.0         True  \n",
       "2     3576.0           0.0  6715.0    49.0        False  \n",
       "3     1283.0         371.0  3329.0   193.0        False  \n",
       "4       70.0         151.0   565.0     2.0         True  "
      ]
     },
     "execution_count": 9,
     "metadata": {},
     "output_type": "execute_result"
    }
   ],
   "source": [
    "dataset_df = dataset_df.drop(['PassengerId', 'Name'], axis=1)\n",
    "dataset_df.head(5)"
   ]
  },
  {
   "cell_type": "markdown",
   "id": "1a0ed991",
   "metadata": {
    "id": "pXhbIKCemnjR",
    "papermill": {
     "duration": 0.019055,
     "end_time": "2023-11-14T00:40:06.727920",
     "exception": false,
     "start_time": "2023-11-14T00:40:06.708865",
     "status": "completed"
    },
    "tags": []
   },
   "source": [
    "We will check for the missing values using the following code:"
   ]
  },
  {
   "cell_type": "code",
   "execution_count": 10,
   "id": "2cc6fcca",
   "metadata": {
    "execution": {
     "iopub.execute_input": "2023-11-14T00:40:06.770236Z",
     "iopub.status.busy": "2023-11-14T00:40:06.768601Z",
     "iopub.status.idle": "2023-11-14T00:40:06.788203Z",
     "shell.execute_reply": "2023-11-14T00:40:06.786850Z"
    },
    "id": "3_VMZ9a1mnjR",
    "papermill": {
     "duration": 0.0443,
     "end_time": "2023-11-14T00:40:06.791405",
     "exception": false,
     "start_time": "2023-11-14T00:40:06.747105",
     "status": "completed"
    },
    "tags": []
   },
   "outputs": [
    {
     "data": {
      "text/plain": [
       "CryoSleep       217\n",
       "ShoppingMall    208\n",
       "VIP             203\n",
       "HomePlanet      201\n",
       "Cabin           199\n",
       "VRDeck          188\n",
       "FoodCourt       183\n",
       "Spa             183\n",
       "Destination     182\n",
       "RoomService     181\n",
       "Age             179\n",
       "Transported       0\n",
       "dtype: int64"
      ]
     },
     "execution_count": 10,
     "metadata": {},
     "output_type": "execute_result"
    }
   ],
   "source": [
    "dataset_df.isnull().sum().sort_values(ascending=False)"
   ]
  },
  {
   "cell_type": "markdown",
   "id": "39cd67de",
   "metadata": {
    "id": "vlWOQl4fmnjS",
    "papermill": {
     "duration": 0.019024,
     "end_time": "2023-11-14T00:40:06.829901",
     "exception": false,
     "start_time": "2023-11-14T00:40:06.810877",
     "status": "completed"
    },
    "tags": []
   },
   "source": [
    "This dataset contains a mix of numeric, categorical and missing features. TF-DF supports all these feature types natively, and no preprocessing is required.\n",
    "\n",
    "But this datatset also has boolean fields with missing values. TF-DF doesn't support boolean fields yet. So we need to convert those fields into int. To account for the missing values in the boolean fields, we will replace them with zero.\n",
    "\n",
    "In this notebook, we will replace null value entries with zero for numerical columns as well and only let TF-DF handle the missing values in categorical columns.\n",
    "\n",
    "Note: You can choose to let TF-DF handle missing values in numerical columns if need be."
   ]
  },
  {
   "cell_type": "code",
   "execution_count": 11,
   "id": "c3724be8",
   "metadata": {
    "execution": {
     "iopub.execute_input": "2023-11-14T00:40:06.871773Z",
     "iopub.status.busy": "2023-11-14T00:40:06.871227Z",
     "iopub.status.idle": "2023-11-14T00:40:06.899522Z",
     "shell.execute_reply": "2023-11-14T00:40:06.898407Z"
    },
    "id": "ASQ5Bh2JmnjS",
    "papermill": {
     "duration": 0.053544,
     "end_time": "2023-11-14T00:40:06.902987",
     "exception": false,
     "start_time": "2023-11-14T00:40:06.849443",
     "status": "completed"
    },
    "tags": []
   },
   "outputs": [
    {
     "data": {
      "text/plain": [
       "HomePlanet      201\n",
       "Cabin           199\n",
       "Destination     182\n",
       "RoomService     181\n",
       "Age             179\n",
       "CryoSleep         0\n",
       "VIP               0\n",
       "FoodCourt         0\n",
       "ShoppingMall      0\n",
       "Spa               0\n",
       "VRDeck            0\n",
       "Transported       0\n",
       "dtype: int64"
      ]
     },
     "execution_count": 11,
     "metadata": {},
     "output_type": "execute_result"
    }
   ],
   "source": [
    "dataset_df[['VIP', 'CryoSleep', 'FoodCourt', 'ShoppingMall', 'Spa', 'VRDeck']] = dataset_df[['VIP', 'CryoSleep', 'FoodCourt', 'ShoppingMall', 'Spa', 'VRDeck']].fillna(value=0)\n",
    "dataset_df.isnull().sum().sort_values(ascending=False)"
   ]
  },
  {
   "cell_type": "markdown",
   "id": "0a38e8ea",
   "metadata": {
    "id": "tFbE6D0BmnjT",
    "papermill": {
     "duration": 0.020564,
     "end_time": "2023-11-14T00:40:06.945254",
     "exception": false,
     "start_time": "2023-11-14T00:40:06.924690",
     "status": "completed"
    },
    "tags": []
   },
   "source": [
    "Since, TF-DF cannot handle boolean columns, we will have to adjust the labels in column `Transported` to convert them into the integer format that TF-DF expects."
   ]
  },
  {
   "cell_type": "code",
   "execution_count": 12,
   "id": "9b23708c",
   "metadata": {
    "execution": {
     "iopub.execute_input": "2023-11-14T00:40:06.988534Z",
     "iopub.status.busy": "2023-11-14T00:40:06.987893Z",
     "iopub.status.idle": "2023-11-14T00:40:06.997716Z",
     "shell.execute_reply": "2023-11-14T00:40:06.995928Z"
    },
    "id": "-T6a_RTxmnjT",
    "papermill": {
     "duration": 0.036456,
     "end_time": "2023-11-14T00:40:07.002319",
     "exception": false,
     "start_time": "2023-11-14T00:40:06.965863",
     "status": "completed"
    },
    "tags": []
   },
   "outputs": [],
   "source": [
    "label = \"Transported\"\n",
    "dataset_df[label] = dataset_df[label].astype(int)"
   ]
  },
  {
   "cell_type": "markdown",
   "id": "72fd1b46",
   "metadata": {
    "id": "F6-GATuzmnjU",
    "papermill": {
     "duration": 0.020216,
     "end_time": "2023-11-14T00:40:07.047197",
     "exception": false,
     "start_time": "2023-11-14T00:40:07.026981",
     "status": "completed"
    },
    "tags": []
   },
   "source": [
    "We will also convert the boolean fields `CryoSleep` and `VIP` to int."
   ]
  },
  {
   "cell_type": "code",
   "execution_count": 13,
   "id": "a117295e",
   "metadata": {
    "execution": {
     "iopub.execute_input": "2023-11-14T00:40:07.090548Z",
     "iopub.status.busy": "2023-11-14T00:40:07.089966Z",
     "iopub.status.idle": "2023-11-14T00:40:07.105086Z",
     "shell.execute_reply": "2023-11-14T00:40:07.101236Z"
    },
    "id": "Wq6PbMnnmnjU",
    "papermill": {
     "duration": 0.040319,
     "end_time": "2023-11-14T00:40:07.108308",
     "exception": false,
     "start_time": "2023-11-14T00:40:07.067989",
     "status": "completed"
    },
    "tags": []
   },
   "outputs": [],
   "source": [
    "dataset_df['VIP'] = dataset_df['VIP'].astype(int)\n",
    "dataset_df['CryoSleep'] = dataset_df['CryoSleep'].astype(int)"
   ]
  },
  {
   "cell_type": "markdown",
   "id": "82d26759",
   "metadata": {
    "id": "enjp51h_mnjV",
    "papermill": {
     "duration": 0.019729,
     "end_time": "2023-11-14T00:40:07.148492",
     "exception": false,
     "start_time": "2023-11-14T00:40:07.128763",
     "status": "completed"
    },
    "tags": []
   },
   "source": [
    "The value of column `Cabin` is a string with the format `Deck/Cabin_num/Side`. Here we will split the `Cabin` column and create 3 new columns `Deck`, `Cabin_num` and `Side`, since it will be easier to train the model on those individual data.\n",
    "\n",
    "Run the following command to split the column `Cabin` into columns `Deck`, `Cabin_num` and `Side`"
   ]
  },
  {
   "cell_type": "code",
   "execution_count": 14,
   "id": "b2ce88af",
   "metadata": {
    "execution": {
     "iopub.execute_input": "2023-11-14T00:40:07.191002Z",
     "iopub.status.busy": "2023-11-14T00:40:07.190507Z",
     "iopub.status.idle": "2023-11-14T00:40:07.225909Z",
     "shell.execute_reply": "2023-11-14T00:40:07.223975Z"
    },
    "id": "JeAuUvb_mnjV",
    "papermill": {
     "duration": 0.061107,
     "end_time": "2023-11-14T00:40:07.229561",
     "exception": false,
     "start_time": "2023-11-14T00:40:07.168454",
     "status": "completed"
    },
    "tags": []
   },
   "outputs": [],
   "source": [
    "dataset_df[[\"Deck\", \"Cabin_num\", \"Side\"]] = dataset_df[\"Cabin\"].str.split(\"/\", expand=True)"
   ]
  },
  {
   "cell_type": "markdown",
   "id": "997c6e3f",
   "metadata": {
    "id": "vNYEd1AkmnjV",
    "papermill": {
     "duration": 0.019723,
     "end_time": "2023-11-14T00:40:07.269192",
     "exception": false,
     "start_time": "2023-11-14T00:40:07.249469",
     "status": "completed"
    },
    "tags": []
   },
   "source": [
    "Remove original `Cabin` column from the dataset since it's not needed anymore."
   ]
  },
  {
   "cell_type": "code",
   "execution_count": 15,
   "id": "acbacc87",
   "metadata": {
    "execution": {
     "iopub.execute_input": "2023-11-14T00:40:07.312527Z",
     "iopub.status.busy": "2023-11-14T00:40:07.311644Z",
     "iopub.status.idle": "2023-11-14T00:40:07.325380Z",
     "shell.execute_reply": "2023-11-14T00:40:07.323386Z"
    },
    "id": "dOcny3s4mnjV",
    "papermill": {
     "duration": 0.039573,
     "end_time": "2023-11-14T00:40:07.329112",
     "exception": false,
     "start_time": "2023-11-14T00:40:07.289539",
     "status": "completed"
    },
    "tags": []
   },
   "outputs": [],
   "source": [
    "try:\n",
    "    dataset_df = dataset_df.drop('Cabin', axis=1)\n",
    "except KeyError:\n",
    "    print(\"Field does not exist\")"
   ]
  },
  {
   "cell_type": "markdown",
   "id": "d8f76b16",
   "metadata": {
    "id": "Y7byxj5FmnjW",
    "papermill": {
     "duration": 0.020083,
     "end_time": "2023-11-14T00:40:07.371051",
     "exception": false,
     "start_time": "2023-11-14T00:40:07.350968",
     "status": "completed"
    },
    "tags": []
   },
   "source": [
    "Let us display the first 5 examples from the prepared dataset."
   ]
  },
  {
   "cell_type": "code",
   "execution_count": 16,
   "id": "480bb2f9",
   "metadata": {
    "execution": {
     "iopub.execute_input": "2023-11-14T00:40:07.415202Z",
     "iopub.status.busy": "2023-11-14T00:40:07.414647Z",
     "iopub.status.idle": "2023-11-14T00:40:07.442388Z",
     "shell.execute_reply": "2023-11-14T00:40:07.440580Z"
    },
    "id": "g0U1OKAYmnjW",
    "papermill": {
     "duration": 0.053582,
     "end_time": "2023-11-14T00:40:07.445891",
     "exception": false,
     "start_time": "2023-11-14T00:40:07.392309",
     "status": "completed"
    },
    "tags": []
   },
   "outputs": [
    {
     "data": {
      "text/html": [
       "<div>\n",
       "<style scoped>\n",
       "    .dataframe tbody tr th:only-of-type {\n",
       "        vertical-align: middle;\n",
       "    }\n",
       "\n",
       "    .dataframe tbody tr th {\n",
       "        vertical-align: top;\n",
       "    }\n",
       "\n",
       "    .dataframe thead th {\n",
       "        text-align: right;\n",
       "    }\n",
       "</style>\n",
       "<table border=\"1\" class=\"dataframe\">\n",
       "  <thead>\n",
       "    <tr style=\"text-align: right;\">\n",
       "      <th></th>\n",
       "      <th>HomePlanet</th>\n",
       "      <th>CryoSleep</th>\n",
       "      <th>Destination</th>\n",
       "      <th>Age</th>\n",
       "      <th>VIP</th>\n",
       "      <th>RoomService</th>\n",
       "      <th>FoodCourt</th>\n",
       "      <th>ShoppingMall</th>\n",
       "      <th>Spa</th>\n",
       "      <th>VRDeck</th>\n",
       "      <th>Transported</th>\n",
       "      <th>Deck</th>\n",
       "      <th>Cabin_num</th>\n",
       "      <th>Side</th>\n",
       "    </tr>\n",
       "  </thead>\n",
       "  <tbody>\n",
       "    <tr>\n",
       "      <th>0</th>\n",
       "      <td>Europa</td>\n",
       "      <td>0</td>\n",
       "      <td>TRAPPIST-1e</td>\n",
       "      <td>39.0</td>\n",
       "      <td>0</td>\n",
       "      <td>0.0</td>\n",
       "      <td>0.0</td>\n",
       "      <td>0.0</td>\n",
       "      <td>0.0</td>\n",
       "      <td>0.0</td>\n",
       "      <td>0</td>\n",
       "      <td>B</td>\n",
       "      <td>0</td>\n",
       "      <td>P</td>\n",
       "    </tr>\n",
       "    <tr>\n",
       "      <th>1</th>\n",
       "      <td>Earth</td>\n",
       "      <td>0</td>\n",
       "      <td>TRAPPIST-1e</td>\n",
       "      <td>24.0</td>\n",
       "      <td>0</td>\n",
       "      <td>109.0</td>\n",
       "      <td>9.0</td>\n",
       "      <td>25.0</td>\n",
       "      <td>549.0</td>\n",
       "      <td>44.0</td>\n",
       "      <td>1</td>\n",
       "      <td>F</td>\n",
       "      <td>0</td>\n",
       "      <td>S</td>\n",
       "    </tr>\n",
       "    <tr>\n",
       "      <th>2</th>\n",
       "      <td>Europa</td>\n",
       "      <td>0</td>\n",
       "      <td>TRAPPIST-1e</td>\n",
       "      <td>58.0</td>\n",
       "      <td>1</td>\n",
       "      <td>43.0</td>\n",
       "      <td>3576.0</td>\n",
       "      <td>0.0</td>\n",
       "      <td>6715.0</td>\n",
       "      <td>49.0</td>\n",
       "      <td>0</td>\n",
       "      <td>A</td>\n",
       "      <td>0</td>\n",
       "      <td>S</td>\n",
       "    </tr>\n",
       "    <tr>\n",
       "      <th>3</th>\n",
       "      <td>Europa</td>\n",
       "      <td>0</td>\n",
       "      <td>TRAPPIST-1e</td>\n",
       "      <td>33.0</td>\n",
       "      <td>0</td>\n",
       "      <td>0.0</td>\n",
       "      <td>1283.0</td>\n",
       "      <td>371.0</td>\n",
       "      <td>3329.0</td>\n",
       "      <td>193.0</td>\n",
       "      <td>0</td>\n",
       "      <td>A</td>\n",
       "      <td>0</td>\n",
       "      <td>S</td>\n",
       "    </tr>\n",
       "    <tr>\n",
       "      <th>4</th>\n",
       "      <td>Earth</td>\n",
       "      <td>0</td>\n",
       "      <td>TRAPPIST-1e</td>\n",
       "      <td>16.0</td>\n",
       "      <td>0</td>\n",
       "      <td>303.0</td>\n",
       "      <td>70.0</td>\n",
       "      <td>151.0</td>\n",
       "      <td>565.0</td>\n",
       "      <td>2.0</td>\n",
       "      <td>1</td>\n",
       "      <td>F</td>\n",
       "      <td>1</td>\n",
       "      <td>S</td>\n",
       "    </tr>\n",
       "  </tbody>\n",
       "</table>\n",
       "</div>"
      ],
      "text/plain": [
       "  HomePlanet  CryoSleep  Destination   Age  VIP  RoomService  FoodCourt  \\\n",
       "0     Europa          0  TRAPPIST-1e  39.0    0          0.0        0.0   \n",
       "1      Earth          0  TRAPPIST-1e  24.0    0        109.0        9.0   \n",
       "2     Europa          0  TRAPPIST-1e  58.0    1         43.0     3576.0   \n",
       "3     Europa          0  TRAPPIST-1e  33.0    0          0.0     1283.0   \n",
       "4      Earth          0  TRAPPIST-1e  16.0    0        303.0       70.0   \n",
       "\n",
       "   ShoppingMall     Spa  VRDeck  Transported Deck Cabin_num Side  \n",
       "0           0.0     0.0     0.0            0    B         0    P  \n",
       "1          25.0   549.0    44.0            1    F         0    S  \n",
       "2           0.0  6715.0    49.0            0    A         0    S  \n",
       "3         371.0  3329.0   193.0            0    A         0    S  \n",
       "4         151.0   565.0     2.0            1    F         1    S  "
      ]
     },
     "execution_count": 16,
     "metadata": {},
     "output_type": "execute_result"
    }
   ],
   "source": [
    "dataset_df.head(5)"
   ]
  },
  {
   "cell_type": "markdown",
   "id": "d5ff4658",
   "metadata": {
    "id": "l6EmJsSfmnjW",
    "papermill": {
     "duration": 0.020441,
     "end_time": "2023-11-14T00:40:07.489092",
     "exception": false,
     "start_time": "2023-11-14T00:40:07.468651",
     "status": "completed"
    },
    "tags": []
   },
   "source": [
    "Now let us split the dataset into training and testing datasets:"
   ]
  },
  {
   "cell_type": "code",
   "execution_count": 17,
   "id": "fa30c6af",
   "metadata": {
    "execution": {
     "iopub.execute_input": "2023-11-14T00:40:07.536328Z",
     "iopub.status.busy": "2023-11-14T00:40:07.534636Z",
     "iopub.status.idle": "2023-11-14T00:40:07.547398Z",
     "shell.execute_reply": "2023-11-14T00:40:07.545932Z"
    },
    "id": "_drMgwAAmnjX",
    "papermill": {
     "duration": 0.038424,
     "end_time": "2023-11-14T00:40:07.550607",
     "exception": false,
     "start_time": "2023-11-14T00:40:07.512183",
     "status": "completed"
    },
    "tags": []
   },
   "outputs": [
    {
     "name": "stdout",
     "output_type": "stream",
     "text": [
      "6953 examples in training, 1740 examples in testing.\n"
     ]
    }
   ],
   "source": [
    "def split_dataset(dataset, test_ratio=0.20):\n",
    "  test_indices = np.random.rand(len(dataset)) < test_ratio\n",
    "  return dataset[~test_indices], dataset[test_indices]\n",
    "\n",
    "train_ds_pd, valid_ds_pd = split_dataset(dataset_df)\n",
    "print(\"{} examples in training, {} examples in testing.\".format(\n",
    "    len(train_ds_pd), len(valid_ds_pd)))"
   ]
  },
  {
   "cell_type": "markdown",
   "id": "206018bf",
   "metadata": {
    "id": "_gg4nfB1mnjX",
    "papermill": {
     "duration": 0.02114,
     "end_time": "2023-11-14T00:40:07.592917",
     "exception": false,
     "start_time": "2023-11-14T00:40:07.571777",
     "status": "completed"
    },
    "tags": []
   },
   "source": [
    "There's one more step required before we can train the model. We need to convert the datatset from Pandas format (`pd.DataFrame`) into TensorFlow Datasets format (`tf.data.Dataset`).\n",
    "\n",
    "[TensorFlow Datasets](https://www.tensorflow.org/datasets/overview) is a high performance data loading library which is helpful when training neural networks with accelerators like GPUs and TPUs."
   ]
  },
  {
   "cell_type": "code",
   "execution_count": 18,
   "id": "35693175",
   "metadata": {
    "execution": {
     "iopub.execute_input": "2023-11-14T00:40:07.639861Z",
     "iopub.status.busy": "2023-11-14T00:40:07.638487Z",
     "iopub.status.idle": "2023-11-14T00:40:07.841874Z",
     "shell.execute_reply": "2023-11-14T00:40:07.840048Z"
    },
    "id": "LZADOplXmnjX",
    "papermill": {
     "duration": 0.231383,
     "end_time": "2023-11-14T00:40:07.845806",
     "exception": false,
     "start_time": "2023-11-14T00:40:07.614423",
     "status": "completed"
    },
    "tags": []
   },
   "outputs": [],
   "source": [
    "train_ds = tfdf.keras.pd_dataframe_to_tf_dataset(train_ds_pd, label=label)\n",
    "valid_ds = tfdf.keras.pd_dataframe_to_tf_dataset(valid_ds_pd, label=label)"
   ]
  },
  {
   "cell_type": "markdown",
   "id": "e1ed202e",
   "metadata": {
    "id": "0-xUiOTwmnjY",
    "papermill": {
     "duration": 0.020617,
     "end_time": "2023-11-14T00:40:07.887711",
     "exception": false,
     "start_time": "2023-11-14T00:40:07.867094",
     "status": "completed"
    },
    "tags": []
   },
   "source": [
    "# Select a Model\n",
    "\n",
    "There are several tree-based models for you to choose from.\n",
    "\n",
    "* RandomForestModel\n",
    "* GradientBoostedTreesModel\n",
    "* CartModel\n",
    "* DistributedGradientBoostedTreesModel\n",
    "\n",
    "To start, we'll work with a Random Forest. This is the most well-known of the Decision Forest training algorithms.\n",
    "\n",
    "A Random Forest is a collection of decision trees, each trained independently on a random subset of the training dataset (sampled with replacement). The algorithm is unique in that it is robust to overfitting, and easy to use.\n",
    "\n",
    "We can list the all the available models in TensorFlow Decision Forests using the following code:"
   ]
  },
  {
   "cell_type": "code",
   "execution_count": 19,
   "id": "577ac5b4",
   "metadata": {
    "execution": {
     "iopub.execute_input": "2023-11-14T00:40:07.932598Z",
     "iopub.status.busy": "2023-11-14T00:40:07.932100Z",
     "iopub.status.idle": "2023-11-14T00:40:07.941351Z",
     "shell.execute_reply": "2023-11-14T00:40:07.939905Z"
    },
    "id": "PdQw1cWbmnjY",
    "papermill": {
     "duration": 0.034909,
     "end_time": "2023-11-14T00:40:07.944195",
     "exception": false,
     "start_time": "2023-11-14T00:40:07.909286",
     "status": "completed"
    },
    "tags": []
   },
   "outputs": [
    {
     "data": {
      "text/plain": [
       "[tensorflow_decision_forests.keras.RandomForestModel,\n",
       " tensorflow_decision_forests.keras.GradientBoostedTreesModel,\n",
       " tensorflow_decision_forests.keras.CartModel,\n",
       " tensorflow_decision_forests.keras.DistributedGradientBoostedTreesModel]"
      ]
     },
     "execution_count": 19,
     "metadata": {},
     "output_type": "execute_result"
    }
   ],
   "source": [
    "tfdf.keras.get_all_models()"
   ]
  },
  {
   "cell_type": "markdown",
   "id": "37938fbb",
   "metadata": {
    "id": "sy81fpfxmnjY",
    "papermill": {
     "duration": 0.021009,
     "end_time": "2023-11-14T00:40:07.986394",
     "exception": false,
     "start_time": "2023-11-14T00:40:07.965385",
     "status": "completed"
    },
    "tags": []
   },
   "source": [
    "# Configure the model\n",
    "\n",
    "TensorFlow Decision Forests provides good defaults for you (e.g. the top ranking hyperparameters on our benchmarks, slightly modified to run in reasonable time). If you would like to configure the learning algorithm, you will find many options you can explore to get the highest possible accuracy.\n",
    "\n",
    "You can select a template and/or set parameters as follows:\n",
    "\n",
    "```rf = tfdf.keras.RandomForestModel(hyperparameter_template=\"benchmark_rank1\")```\n",
    "\n",
    "Read more [here](https://www.tensorflow.org/decision_forests/api_docs/python/tfdf/keras/RandomForestModel)."
   ]
  },
  {
   "cell_type": "markdown",
   "id": "fb82ef66",
   "metadata": {
    "id": "AfJMCA6lmnjZ",
    "papermill": {
     "duration": 0.022305,
     "end_time": "2023-11-14T00:40:08.030923",
     "exception": false,
     "start_time": "2023-11-14T00:40:08.008618",
     "status": "completed"
    },
    "tags": []
   },
   "source": [
    "# Create a Random Forest\n",
    "\n",
    "Today, we will use the defaults to create the Random Forest Model. By default the model is set to train for a classification task."
   ]
  },
  {
   "cell_type": "markdown",
   "id": "9e1e0d11",
   "metadata": {
    "papermill": {
     "duration": 0.021165,
     "end_time": "2023-11-14T00:40:08.075318",
     "exception": false,
     "start_time": "2023-11-14T00:40:08.054153",
     "status": "completed"
    },
    "tags": []
   },
   "source": []
  },
  {
   "cell_type": "code",
   "execution_count": 20,
   "id": "b979845d",
   "metadata": {
    "execution": {
     "iopub.execute_input": "2023-11-14T00:40:08.121237Z",
     "iopub.status.busy": "2023-11-14T00:40:08.120121Z",
     "iopub.status.idle": "2023-11-14T00:40:08.198426Z",
     "shell.execute_reply": "2023-11-14T00:40:08.196286Z"
    },
    "id": "j7-gFVDNmnjZ",
    "papermill": {
     "duration": 0.106112,
     "end_time": "2023-11-14T00:40:08.202704",
     "exception": false,
     "start_time": "2023-11-14T00:40:08.096592",
     "status": "completed"
    },
    "tags": []
   },
   "outputs": [
    {
     "name": "stdout",
     "output_type": "stream",
     "text": [
      "Use /tmp/tmps8a35hqb as temporary training directory\n"
     ]
    }
   ],
   "source": [
    "rf = tfdf.keras.RandomForestModel()\n",
    "rf.compile(metrics=[\"accuracy\"]) # Optional, you can use this to include a list of eval metrics"
   ]
  },
  {
   "cell_type": "markdown",
   "id": "d13afd26",
   "metadata": {
    "id": "wEQXtv4MmnjZ",
    "papermill": {
     "duration": 0.021462,
     "end_time": "2023-11-14T00:40:08.246198",
     "exception": false,
     "start_time": "2023-11-14T00:40:08.224736",
     "status": "completed"
    },
    "tags": []
   },
   "source": [
    "# Train the model\n",
    "\n",
    "We will train the model using a one-liner.\n",
    "\n",
    "Note: you may see a warning about Autograph. You can safely ignore this, it will be fixed in the next release."
   ]
  },
  {
   "cell_type": "code",
   "execution_count": 21,
   "id": "0080a55c",
   "metadata": {
    "execution": {
     "iopub.execute_input": "2023-11-14T00:40:08.291816Z",
     "iopub.status.busy": "2023-11-14T00:40:08.291251Z",
     "iopub.status.idle": "2023-11-14T00:41:16.064245Z",
     "shell.execute_reply": "2023-11-14T00:41:16.062628Z"
    },
    "id": "QcL5KRyLmnja",
    "papermill": {
     "duration": 67.800237,
     "end_time": "2023-11-14T00:41:16.068211",
     "exception": false,
     "start_time": "2023-11-14T00:40:08.267974",
     "status": "completed"
    },
    "tags": []
   },
   "outputs": [
    {
     "name": "stdout",
     "output_type": "stream",
     "text": [
      "Reading training dataset...\n",
      "Training dataset read in 0:00:08.339960. Found 6953 examples.\n",
      "Training model...\n"
     ]
    },
    {
     "name": "stderr",
     "output_type": "stream",
     "text": [
      "[INFO 2023-11-14T00:41:10.904386739+00:00 kernel.cc:1214] Loading model from path /tmp/tmps8a35hqb/model/ with prefix 7e27d53d2ae64cc3\n"
     ]
    },
    {
     "name": "stdout",
     "output_type": "stream",
     "text": [
      "Model trained in 0:00:55.723842\n",
      "Compiling model...\n"
     ]
    },
    {
     "name": "stderr",
     "output_type": "stream",
     "text": [
      "[INFO 2023-11-14T00:41:12.257742993+00:00 decision_forest.cc:661] Model loaded with 300 root(s), 234646 node(s), and 13 input feature(s).\n",
      "[INFO 2023-11-14T00:41:12.257870154+00:00 abstract_model.cc:1311] Engine \"RandomForestGeneric\" built\n",
      "[INFO 2023-11-14T00:41:12.257956082+00:00 kernel.cc:1046] Use fast generic engine\n"
     ]
    },
    {
     "name": "stdout",
     "output_type": "stream",
     "text": [
      "WARNING: AutoGraph could not transform <function simple_ml_inference_op_with_handle at 0x7fd3e4916ef0> and will run it as-is.\n",
      "Please report this to the TensorFlow team. When filing the bug, set the verbosity to 10 (on Linux, `export AUTOGRAPH_VERBOSITY=10`) and attach the full output.\n",
      "Cause: could not get source code\n",
      "To silence this warning, decorate the function with @tf.autograph.experimental.do_not_convert\n",
      "Model compiled.\n"
     ]
    },
    {
     "data": {
      "text/plain": [
       "<keras.callbacks.History at 0x7fd3d48c2c10>"
      ]
     },
     "execution_count": 21,
     "metadata": {},
     "output_type": "execute_result"
    }
   ],
   "source": [
    "rf.fit(x=train_ds)"
   ]
  },
  {
   "cell_type": "markdown",
   "id": "22056ce1",
   "metadata": {
    "id": "HQaPDLBjmnja",
    "papermill": {
     "duration": 0.021695,
     "end_time": "2023-11-14T00:41:16.112750",
     "exception": false,
     "start_time": "2023-11-14T00:41:16.091055",
     "status": "completed"
    },
    "tags": []
   },
   "source": [
    "# Visualize the model\n",
    "One benefit of tree-based models is that we can easily visualize them. The default number of trees used in the Random Forests is 300. We can select a tree to display below."
   ]
  },
  {
   "cell_type": "code",
   "execution_count": 22,
   "id": "fd9c38b2",
   "metadata": {
    "execution": {
     "iopub.execute_input": "2023-11-14T00:41:16.161725Z",
     "iopub.status.busy": "2023-11-14T00:41:16.159924Z",
     "iopub.status.idle": "2023-11-14T00:41:16.984864Z",
     "shell.execute_reply": "2023-11-14T00:41:16.982913Z"
    },
    "id": "hSao4Qstmnja",
    "papermill": {
     "duration": 0.853839,
     "end_time": "2023-11-14T00:41:16.989049",
     "exception": false,
     "start_time": "2023-11-14T00:41:16.135210",
     "status": "completed"
    },
    "tags": []
   },
   "outputs": [
    {
     "data": {
      "text/html": [
       "\n",
       "<script src=\"https://d3js.org/d3.v6.min.js\"></script>\n",
       "<div id=\"tree_plot_d34601038a6c444ea39656680ff99e16\"></div>\n",
       "<script>\n",
       "/*\n",
       " * Copyright 2021 Google LLC.\n",
       " * Licensed under the Apache License, Version 2.0 (the \"License\");\n",
       " * you may not use this file except in compliance with the License.\n",
       " * You may obtain a copy of the License at\n",
       " *\n",
       " *     https://www.apache.org/licenses/LICENSE-2.0\n",
       " *\n",
       " * Unless required by applicable law or agreed to in writing, software\n",
       " * distributed under the License is distributed on an \"AS IS\" BASIS,\n",
       " * WITHOUT WARRANTIES OR CONDITIONS OF ANY KIND, either express or implied.\n",
       " * See the License for the specific language governing permissions and\n",
       " * limitations under the License.\n",
       " */\n",
       "\n",
       "/**\n",
       " *  Plotting of decision trees generated by TF-DF.\n",
       " *\n",
       " *  A tree is a recursive structure of node objects.\n",
       " *  A node contains one or more of the following components:\n",
       " *\n",
       " *    - A value: Representing the output of the node. If the node is not a leaf,\n",
       " *      the value is only present for analysis i.e. it is not used for\n",
       " *      predictions.\n",
       " *\n",
       " *    - A condition : For non-leaf nodes, the condition (also known as split)\n",
       " *      defines a binary test to branch to the positive or negative child.\n",
       " *\n",
       " *    - An explanation: Generally a plot showing the relation between the label\n",
       " *      and the condition to give insights about the effect of the condition.\n",
       " *\n",
       " *    - Two children : For non-leaf nodes, the children nodes. The first\n",
       " *      children (i.e. \"node.children[0]\") is the negative children (drawn in\n",
       " *      red). The second children is the positive one (drawn in green).\n",
       " *\n",
       " */\n",
       "\n",
       "/**\n",
       " * Plots a single decision tree into a DOM element.\n",
       " * @param {!options} options Dictionary of configurations.\n",
       " * @param {!tree} raw_tree Recursive tree structure.\n",
       " * @param {string} canvas_id Id of the output dom element.\n",
       " */\n",
       "function display_tree(options, raw_tree, canvas_id) {\n",
       "  console.log(options);\n",
       "\n",
       "  // Determine the node placement.\n",
       "  const tree_struct = d3.tree().nodeSize(\n",
       "      [options.node_y_offset, options.node_x_offset])(d3.hierarchy(raw_tree));\n",
       "\n",
       "  // Boundaries of the node placement.\n",
       "  let x_min = Infinity;\n",
       "  let x_max = -x_min;\n",
       "  let y_min = Infinity;\n",
       "  let y_max = -x_min;\n",
       "\n",
       "  tree_struct.each(d => {\n",
       "    if (d.x > x_max) x_max = d.x;\n",
       "    if (d.x < x_min) x_min = d.x;\n",
       "    if (d.y > y_max) y_max = d.y;\n",
       "    if (d.y < y_min) y_min = d.y;\n",
       "  });\n",
       "\n",
       "  // Size of the plot.\n",
       "  const width = y_max - y_min + options.node_x_size + options.margin * 2;\n",
       "  const height = x_max - x_min + options.node_y_size + options.margin * 2 +\n",
       "      options.node_y_offset - options.node_y_size;\n",
       "\n",
       "  const plot = d3.select(canvas_id);\n",
       "\n",
       "  // Tool tip\n",
       "  options.tooltip = plot.append('div')\n",
       "                        .attr('width', 100)\n",
       "                        .attr('height', 100)\n",
       "                        .style('padding', '4px')\n",
       "                        .style('background', '#fff')\n",
       "                        .style('box-shadow', '4px 4px 0px rgba(0,0,0,0.1)')\n",
       "                        .style('border', '1px solid black')\n",
       "                        .style('font-family', 'sans-serif')\n",
       "                        .style('font-size', options.font_size)\n",
       "                        .style('position', 'absolute')\n",
       "                        .style('z-index', '10')\n",
       "                        .attr('pointer-events', 'none')\n",
       "                        .style('display', 'none');\n",
       "\n",
       "  // Create canvas\n",
       "  const svg = plot.append('svg').attr('width', width).attr('height', height);\n",
       "  const graph =\n",
       "      svg.style('overflow', 'visible')\n",
       "          .append('g')\n",
       "          .attr('font-family', 'sans-serif')\n",
       "          .attr('font-size', options.font_size)\n",
       "          .attr(\n",
       "              'transform',\n",
       "              () => `translate(${options.margin},${\n",
       "                  - x_min + options.node_y_offset / 2 + options.margin})`);\n",
       "\n",
       "  // Plot bounding box.\n",
       "  if (options.show_plot_bounding_box) {\n",
       "    svg.append('rect')\n",
       "        .attr('width', width)\n",
       "        .attr('height', height)\n",
       "        .attr('fill', 'none')\n",
       "        .attr('stroke-width', 1.0)\n",
       "        .attr('stroke', 'black');\n",
       "  }\n",
       "\n",
       "  // Draw the edges.\n",
       "  display_edges(options, graph, tree_struct);\n",
       "\n",
       "  // Draw the nodes.\n",
       "  display_nodes(options, graph, tree_struct);\n",
       "}\n",
       "\n",
       "/**\n",
       " * Draw the nodes of the tree.\n",
       " * @param {!options} options Dictionary of configurations.\n",
       " * @param {!graph} graph D3 search handle containing the graph.\n",
       " * @param {!tree_struct} tree_struct Structure of the tree (node placement,\n",
       " *     data, etc.).\n",
       " */\n",
       "function display_nodes(options, graph, tree_struct) {\n",
       "  const nodes = graph.append('g')\n",
       "                    .selectAll('g')\n",
       "                    .data(tree_struct.descendants())\n",
       "                    .join('g')\n",
       "                    .attr('transform', d => `translate(${d.y},${d.x})`);\n",
       "\n",
       "  nodes.append('rect')\n",
       "      .attr('x', 0.5)\n",
       "      .attr('y', 0.5)\n",
       "      .attr('width', options.node_x_size)\n",
       "      .attr('height', options.node_y_size)\n",
       "      .attr('stroke', 'lightgrey')\n",
       "      .attr('stroke-width', 1)\n",
       "      .attr('fill', 'white')\n",
       "      .attr('y', -options.node_y_size / 2);\n",
       "\n",
       "  // Brackets on the right of condition nodes without children.\n",
       "  non_leaf_node_without_children =\n",
       "      nodes.filter(node => node.data.condition != null && node.children == null)\n",
       "          .append('g')\n",
       "          .attr('transform', `translate(${options.node_x_size},0)`);\n",
       "\n",
       "  non_leaf_node_without_children.append('path')\n",
       "      .attr('d', 'M0,0 C 10,0 0,10 10,10')\n",
       "      .attr('fill', 'none')\n",
       "      .attr('stroke-width', 1.0)\n",
       "      .attr('stroke', '#F00');\n",
       "\n",
       "  non_leaf_node_without_children.append('path')\n",
       "      .attr('d', 'M0,0 C 10,0 0,-10 10,-10')\n",
       "      .attr('fill', 'none')\n",
       "      .attr('stroke-width', 1.0)\n",
       "      .attr('stroke', '#0F0');\n",
       "\n",
       "  const node_content = nodes.append('g').attr(\n",
       "      'transform',\n",
       "      `translate(0,${options.node_padding - options.node_y_size / 2})`);\n",
       "\n",
       "  node_content.append(node => create_node_element(options, node));\n",
       "}\n",
       "\n",
       "/**\n",
       " * Creates the D3 content for a single node.\n",
       " * @param {!options} options Dictionary of configurations.\n",
       " * @param {!node} node Node to draw.\n",
       " * @return {!d3} D3 content.\n",
       " */\n",
       "function create_node_element(options, node) {\n",
       "  // Output accumulator.\n",
       "  let output = {\n",
       "    // Content to draw.\n",
       "    content: d3.create('svg:g'),\n",
       "    // Vertical offset to the next element to draw.\n",
       "    vertical_offset: 0\n",
       "  };\n",
       "\n",
       "  // Conditions.\n",
       "  if (node.data.condition != null) {\n",
       "    display_condition(options, node.data.condition, output);\n",
       "  }\n",
       "\n",
       "  // Values.\n",
       "  if (node.data.value != null) {\n",
       "    display_value(options, node.data.value, output);\n",
       "  }\n",
       "\n",
       "  // Explanations.\n",
       "  if (node.data.explanation != null) {\n",
       "    display_explanation(options, node.data.explanation, output);\n",
       "  }\n",
       "\n",
       "  return output.content.node();\n",
       "}\n",
       "\n",
       "\n",
       "/**\n",
       " * Adds a single line of text inside of a node.\n",
       " * @param {!options} options Dictionary of configurations.\n",
       " * @param {string} text Text to display.\n",
       " * @param {!output} output Output display accumulator.\n",
       " */\n",
       "function display_node_text(options, text, output) {\n",
       "  output.content.append('text')\n",
       "      .attr('x', options.node_padding)\n",
       "      .attr('y', output.vertical_offset)\n",
       "      .attr('alignment-baseline', 'hanging')\n",
       "      .text(text);\n",
       "  output.vertical_offset += 10;\n",
       "}\n",
       "\n",
       "/**\n",
       " * Adds a single line of text inside of a node with a tooltip.\n",
       " * @param {!options} options Dictionary of configurations.\n",
       " * @param {string} text Text to display.\n",
       " * @param {string} tooltip Text in the Tooltip.\n",
       " * @param {!output} output Output display accumulator.\n",
       " */\n",
       "function display_node_text_with_tooltip(options, text, tooltip, output) {\n",
       "  const item = output.content.append('text')\n",
       "                   .attr('x', options.node_padding)\n",
       "                   .attr('alignment-baseline', 'hanging')\n",
       "                   .text(text);\n",
       "\n",
       "  add_tooltip(options, item, () => tooltip);\n",
       "  output.vertical_offset += 10;\n",
       "}\n",
       "\n",
       "/**\n",
       " * Adds a tooltip to a dom element.\n",
       " * @param {!options} options Dictionary of configurations.\n",
       " * @param {!dom} target Dom element to equip with a tooltip.\n",
       " * @param {!func} get_content Generates the html content of the tooltip.\n",
       " */\n",
       "function add_tooltip(options, target, get_content) {\n",
       "  function show(d) {\n",
       "    options.tooltip.style('display', 'block');\n",
       "    options.tooltip.html(get_content());\n",
       "  }\n",
       "\n",
       "  function hide(d) {\n",
       "    options.tooltip.style('display', 'none');\n",
       "  }\n",
       "\n",
       "  function move(d) {\n",
       "    options.tooltip.style('display', 'block');\n",
       "    options.tooltip.style('left', (d.pageX + 5) + 'px');\n",
       "    options.tooltip.style('top', d.pageY + 'px');\n",
       "  }\n",
       "\n",
       "  target.on('mouseover', show);\n",
       "  target.on('mouseout', hide);\n",
       "  target.on('mousemove', move);\n",
       "}\n",
       "\n",
       "/**\n",
       " * Adds a condition inside of a node.\n",
       " * @param {!options} options Dictionary of configurations.\n",
       " * @param {!condition} condition Condition to display.\n",
       " * @param {!output} output Output display accumulator.\n",
       " */\n",
       "function display_condition(options, condition, output) {\n",
       "  threshold_format = d3.format('r');\n",
       "\n",
       "  if (condition.type === 'IS_MISSING') {\n",
       "    display_node_text(options, `${condition.attribute} is missing`, output);\n",
       "    return;\n",
       "  }\n",
       "\n",
       "  if (condition.type === 'IS_TRUE') {\n",
       "    display_node_text(options, `${condition.attribute} is true`, output);\n",
       "    return;\n",
       "  }\n",
       "\n",
       "  if (condition.type === 'NUMERICAL_IS_HIGHER_THAN') {\n",
       "    format = d3.format('r');\n",
       "    display_node_text(\n",
       "        options,\n",
       "        `${condition.attribute} >= ${threshold_format(condition.threshold)}`,\n",
       "        output);\n",
       "    return;\n",
       "  }\n",
       "\n",
       "  if (condition.type === 'CATEGORICAL_IS_IN') {\n",
       "    display_node_text_with_tooltip(\n",
       "        options, `${condition.attribute} in [...]`,\n",
       "        `${condition.attribute} in [${condition.mask}]`, output);\n",
       "    return;\n",
       "  }\n",
       "\n",
       "  if (condition.type === 'CATEGORICAL_SET_CONTAINS') {\n",
       "    display_node_text_with_tooltip(\n",
       "        options, `${condition.attribute} intersect [...]`,\n",
       "        `${condition.attribute} intersect [${condition.mask}]`, output);\n",
       "    return;\n",
       "  }\n",
       "\n",
       "  if (condition.type === 'NUMERICAL_SPARSE_OBLIQUE') {\n",
       "    display_node_text_with_tooltip(\n",
       "        options, `Sparse oblique split...`,\n",
       "        `[${condition.attributes}]*[${condition.weights}]>=${\n",
       "            threshold_format(condition.threshold)}`,\n",
       "        output);\n",
       "    return;\n",
       "  }\n",
       "\n",
       "  display_node_text(\n",
       "      options, `Non supported condition ${condition.type}`, output);\n",
       "}\n",
       "\n",
       "/**\n",
       " * Adds a value inside of a node.\n",
       " * @param {!options} options Dictionary of configurations.\n",
       " * @param {!value} value Value to display.\n",
       " * @param {!output} output Output display accumulator.\n",
       " */\n",
       "function display_value(options, value, output) {\n",
       "  if (value.type === 'PROBABILITY') {\n",
       "    const left_margin = 0;\n",
       "    const right_margin = 50;\n",
       "    const plot_width = options.node_x_size - options.node_padding * 2 -\n",
       "        left_margin - right_margin;\n",
       "\n",
       "    let cusum = Array.from(d3.cumsum(value.distribution));\n",
       "    cusum.unshift(0);\n",
       "    const distribution_plot = output.content.append('g').attr(\n",
       "        'transform', `translate(0,${output.vertical_offset + 0.5})`);\n",
       "\n",
       "    distribution_plot.selectAll('rect')\n",
       "        .data(value.distribution)\n",
       "        .join('rect')\n",
       "        .attr('height', 10)\n",
       "        .attr(\n",
       "            'x',\n",
       "            (d, i) =>\n",
       "                (cusum[i] * plot_width + left_margin + options.node_padding))\n",
       "        .attr('width', (d, i) => d * plot_width)\n",
       "        .style('fill', (d, i) => d3.schemeSet1[i]);\n",
       "\n",
       "    const num_examples =\n",
       "        output.content.append('g')\n",
       "            .attr('transform', `translate(0,${output.vertical_offset})`)\n",
       "            .append('text')\n",
       "            .attr('x', options.node_x_size - options.node_padding)\n",
       "            .attr('alignment-baseline', 'hanging')\n",
       "            .attr('text-anchor', 'end')\n",
       "            .text(`(${value.num_examples})`);\n",
       "\n",
       "    const distribution_details = d3.create('ul');\n",
       "    distribution_details.selectAll('li')\n",
       "        .data(value.distribution)\n",
       "        .join('li')\n",
       "        .append('span')\n",
       "        .text(\n",
       "            (d, i) =>\n",
       "                'class ' + i + ': ' + d3.format('.3%')(value.distribution[i]));\n",
       "\n",
       "    add_tooltip(options, distribution_plot, () => distribution_details.html());\n",
       "    add_tooltip(options, num_examples, () => 'Number of examples');\n",
       "\n",
       "    output.vertical_offset += 10;\n",
       "    return;\n",
       "  }\n",
       "\n",
       "  if (value.type === 'REGRESSION') {\n",
       "    display_node_text(\n",
       "        options,\n",
       "        'value: ' + d3.format('r')(value.value) + ` (` +\n",
       "            d3.format('.6')(value.num_examples) + `)`,\n",
       "        output);\n",
       "    return;\n",
       "  }\n",
       "\n",
       "  display_node_text(options, `Non supported value ${value.type}`, output);\n",
       "}\n",
       "\n",
       "/**\n",
       " * Adds an explanation inside of a node.\n",
       " * @param {!options} options Dictionary of configurations.\n",
       " * @param {!explanation} explanation Explanation to display.\n",
       " * @param {!output} output Output display accumulator.\n",
       " */\n",
       "function display_explanation(options, explanation, output) {\n",
       "  // Margin before the explanation.\n",
       "  output.vertical_offset += 10;\n",
       "\n",
       "  display_node_text(\n",
       "      options, `Non supported explanation ${explanation.type}`, output);\n",
       "}\n",
       "\n",
       "\n",
       "/**\n",
       " * Draw the edges of the tree.\n",
       " * @param {!options} options Dictionary of configurations.\n",
       " * @param {!graph} graph D3 search handle containing the graph.\n",
       " * @param {!tree_struct} tree_struct Structure of the tree (node placement,\n",
       " *     data, etc.).\n",
       " */\n",
       "function display_edges(options, graph, tree_struct) {\n",
       "  // Draw an edge between a parent and a child node with a bezier.\n",
       "  function draw_single_edge(d) {\n",
       "    return 'M' + (d.source.y + options.node_x_size) + ',' + d.source.x + ' C' +\n",
       "        (d.source.y + options.node_x_size + options.edge_rounding) + ',' +\n",
       "        d.source.x + ' ' + (d.target.y - options.edge_rounding) + ',' +\n",
       "        d.target.x + ' ' + d.target.y + ',' + d.target.x;\n",
       "  }\n",
       "\n",
       "  graph.append('g')\n",
       "      .attr('fill', 'none')\n",
       "      .attr('stroke-width', 1.2)\n",
       "      .selectAll('path')\n",
       "      .data(tree_struct.links())\n",
       "      .join('path')\n",
       "      .attr('d', draw_single_edge)\n",
       "      .attr(\n",
       "          'stroke', d => (d.target === d.source.children[0]) ? '#0F0' : '#F00');\n",
       "}\n",
       "\n",
       "display_tree({\"margin\": 10, \"node_x_size\": 160, \"node_y_size\": 28, \"node_x_offset\": 180, \"node_y_offset\": 33, \"font_size\": 10, \"edge_rounding\": 20, \"node_padding\": 2, \"show_plot_bounding_box\": false}, {\"value\": {\"type\": \"PROBABILITY\", \"distribution\": [0.49446282180353807, 0.5055371781964619], \"num_examples\": 6953.0}, \"condition\": {\"type\": \"CATEGORICAL_IS_IN\", \"attribute\": \"HomePlanet\", \"mask\": [\"Europa\"]}, \"children\": [{\"value\": {\"type\": \"PROBABILITY\", \"distribution\": [0.32176470588235295, 0.678235294117647], \"num_examples\": 1700.0}, \"condition\": {\"type\": \"NUMERICAL_IS_HIGHER_THAN\", \"attribute\": \"VRDeck\", \"threshold\": 1.5}, \"children\": [{\"value\": {\"type\": \"PROBABILITY\", \"distribution\": [0.6479250334672021, 0.35207496653279785], \"num_examples\": 747.0}, \"condition\": {\"type\": \"NUMERICAL_IS_HIGHER_THAN\", \"attribute\": \"Spa\", \"threshold\": 1372.0}, \"children\": [{\"value\": {\"type\": \"PROBABILITY\", \"distribution\": [0.952, 0.048], \"num_examples\": 250.0}, \"condition\": {\"type\": \"NUMERICAL_IS_HIGHER_THAN\", \"attribute\": \"ShoppingMall\", \"threshold\": 1.5}}, {\"value\": {\"type\": \"PROBABILITY\", \"distribution\": [0.4949698189134809, 0.5050301810865191], \"num_examples\": 497.0}, \"condition\": {\"type\": \"NUMERICAL_IS_HIGHER_THAN\", \"attribute\": \"FoodCourt\", \"threshold\": 3129.5}}]}, {\"value\": {\"type\": \"PROBABILITY\", \"distribution\": [0.06610703043022036, 0.9338929695697796], \"num_examples\": 953.0}, \"condition\": {\"type\": \"NUMERICAL_IS_HIGHER_THAN\", \"attribute\": \"CryoSleep\", \"threshold\": 0.5}, \"children\": [{\"value\": {\"type\": \"PROBABILITY\", \"distribution\": [0.005215123859191656, 0.9947848761408083], \"num_examples\": 767.0}, \"condition\": {\"type\": \"CATEGORICAL_IS_IN\", \"attribute\": \"Cabin_num\", \"mask\": [\"<OOD>\", \"82\", \"19\", \"86\", \"176\", \"65\", \"53\", \"16\", \"56\", \"35\", \"137\", \"11\", \"96\", \"63\", \"57\", \"279\", \"187\", \"186\", \"18\", \"133\", \"75\", \"258\", \"229\", \"227\", \"20\", \"99\", \"94\", \"55\", \"50\", \"43\", \"306\", \"259\", \"199\", \"178\", \"152\", \"83\", \"80\", \"78\", \"67\", \"3\", \"291\", \"283\", \"265\", \"262\", \"25\", \"246\", \"220\", \"200\", \"190\", \"171\", \"151\", \"134\", \"129\", \"127\", \"122\", \"5\", \"48\", \"268\", \"260\", \"255\", \"219\", \"188\", \"135\", \"10\", \"8\", \"61\", \"6\", \"46\", \"39\", \"317\", \"315\", \"288\", \"277\", \"272\", \"230\", \"215\", \"208\", \"195\", \"194\", \"181\", \"163\", \"136\", \"119\", \"85\", \"7\", \"58\", \"324\", \"285\", \"284\", \"271\", \"257\", \"249\", \"242\", \"239\", \"217\", \"15\", \"121\", \"115\", \"71\", \"461\", \"4\", \"36\", \"340\", \"319\", \"301\", \"263\", \"240\", \"236\", \"221\", \"148\", \"131\", \"114\", \"113\", \"87\", \"426\", \"349\", \"336\", \"309\", \"298\", \"254\", \"234\", \"205\", \"167\", \"159\", \"128\", \"106\", \"588\", \"40\", \"347\", \"338\", \"33\", \"318\", \"310\", \"282\", \"207\", \"180\", \"12\"]}}, {\"value\": {\"type\": \"PROBABILITY\", \"distribution\": [0.3172043010752688, 0.6827956989247311], \"num_examples\": 186.0}, \"condition\": {\"type\": \"CATEGORICAL_IS_IN\", \"attribute\": \"Cabin_num\", \"mask\": [\"<OOD>\", \"82\", \"19\", \"97\", \"269\", \"118\", \"137\", \"59\", \"183\", \"229\", \"20\", \"270\", \"225\", \"178\", \"123\", \"47\", \"38\", \"25\", \"226\", \"140\", \"102\", \"9\", \"5\", \"29\", \"268\", \"252\", \"175\", \"110\", \"230\", \"194\", \"161\", \"7\", \"285\", \"217\", \"307\", \"273\", \"170\", \"131\", \"130\", \"290\", \"280\", \"254\", \"232\", \"202\", \"207\"]}}]}]}, {\"value\": {\"type\": \"PROBABILITY\", \"distribution\": [0.5503521797068341, 0.4496478202931658], \"num_examples\": 5253.0}, \"condition\": {\"type\": \"CATEGORICAL_IS_IN\", \"attribute\": \"Side\", \"mask\": [\"S\"]}, \"children\": [{\"value\": {\"type\": \"PROBABILITY\", \"distribution\": [0.48578391551584077, 0.5142160844841592], \"num_examples\": 2462.0}, \"condition\": {\"type\": \"NUMERICAL_IS_HIGHER_THAN\", \"attribute\": \"RoomService\", \"threshold\": 0.5}, \"children\": [{\"value\": {\"type\": \"PROBABILITY\", \"distribution\": [0.7023445463812437, 0.2976554536187564], \"num_examples\": 981.0}, \"condition\": {\"type\": \"NUMERICAL_IS_HIGHER_THAN\", \"attribute\": \"FoodCourt\", \"threshold\": 159.5}}, {\"value\": {\"type\": \"PROBABILITY\", \"distribution\": [0.34233625928426736, 0.6576637407157326], \"num_examples\": 1481.0}, \"condition\": {\"type\": \"NUMERICAL_IS_HIGHER_THAN\", \"attribute\": \"VRDeck\", \"threshold\": 1.5}}]}, {\"value\": {\"type\": \"PROBABILITY\", \"distribution\": [0.607309208169115, 0.392690791830885], \"num_examples\": 2791.0}, \"condition\": {\"type\": \"NUMERICAL_IS_HIGHER_THAN\", \"attribute\": \"VRDeck\", \"threshold\": 129.0}, \"children\": [{\"value\": {\"type\": \"PROBABILITY\", \"distribution\": [0.8923395445134575, 0.10766045548654245], \"num_examples\": 483.0}, \"condition\": {\"type\": \"CATEGORICAL_IS_IN\", \"attribute\": \"Cabin_num\", \"mask\": [\"<OOD>\", \"269\", \"13\", \"59\", \"57\", \"24\", \"183\", \"152\", \"123\", \"83\", \"38\", \"190\", \"171\", \"117\", \"5\", \"48\", \"29\", \"28\", \"276\", \"252\", \"198\", \"135\", \"124\", \"1046\", \"292\", \"261\", \"196\", \"192\", \"155\", \"116\", \"76\", \"45\", \"264\", \"257\", \"239\", \"224\", \"193\", \"17\", \"1194\", \"84\", \"69\", \"466\", \"4\", \"240\", \"221\", \"143\", \"937\", \"655\", \"601\", \"541\", \"439\", \"321\", \"289\", \"280\", \"266\", \"243\", \"1316\", \"576\", \"410\", \"407\", \"335\", \"333\", \"33\", \"180\", \"1461\", \"1433\"]}}, {\"value\": {\"type\": \"PROBABILITY\", \"distribution\": [0.5476603119584056, 0.45233968804159447], \"num_examples\": 2308.0}, \"condition\": {\"type\": \"NUMERICAL_IS_HIGHER_THAN\", \"attribute\": \"ShoppingMall\", \"threshold\": 0.5}}]}]}]}, \"#tree_plot_d34601038a6c444ea39656680ff99e16\")\n",
       "</script>\n"
      ],
      "text/plain": [
       "<IPython.core.display.HTML object>"
      ]
     },
     "execution_count": 22,
     "metadata": {},
     "output_type": "execute_result"
    }
   ],
   "source": [
    "tfdf.model_plotter.plot_model_in_colab(rf, tree_idx=0, max_depth=3)"
   ]
  },
  {
   "cell_type": "markdown",
   "id": "75e77990",
   "metadata": {
    "id": "1q5zxzuLmnjb",
    "papermill": {
     "duration": 0.023277,
     "end_time": "2023-11-14T00:41:17.036952",
     "exception": false,
     "start_time": "2023-11-14T00:41:17.013675",
     "status": "completed"
    },
    "tags": []
   },
   "source": [
    "# Evaluate the model on the Out of bag (OOB) data and the validation dataset\n",
    "\n",
    "Before training the dataset we have manually seperated 20% of the dataset for validation named as `valid_ds`.\n",
    "\n",
    "We can also use Out of bag (OOB) score to validate our RandomForestModel.\n",
    "To train a Random Forest Model, a set of random samples from training set are choosen by the algorithm and the rest of the samples are used to finetune the model.The subset of data that is not chosen is known as Out of bag data (OOB).\n",
    "OOB score is computed on the OOB data.\n",
    "\n",
    "Read more about OOB data [here](https://developers.google.com/machine-learning/decision-forests/out-of-bag).\n",
    "\n",
    "The training logs show the accuracy evaluated on the out-of-bag dataset according to the number of trees in the model. Let us plot this.\n",
    "\n",
    "Note: Larger values are better for this hyperparameter."
   ]
  },
  {
   "cell_type": "code",
   "execution_count": 23,
   "id": "e0097bbb",
   "metadata": {
    "execution": {
     "iopub.execute_input": "2023-11-14T00:41:17.088574Z",
     "iopub.status.busy": "2023-11-14T00:41:17.086970Z",
     "iopub.status.idle": "2023-11-14T00:41:17.324970Z",
     "shell.execute_reply": "2023-11-14T00:41:17.323874Z"
    },
    "id": "z7u4IuAQmnjb",
    "papermill": {
     "duration": 0.266933,
     "end_time": "2023-11-14T00:41:17.328135",
     "exception": false,
     "start_time": "2023-11-14T00:41:17.061202",
     "status": "completed"
    },
    "tags": []
   },
   "outputs": [
    {
     "data": {
      "image/png": "[encoded data removed]",
      "text/plain": [
       "<Figure size 640x480 with 1 Axes>"
      ]
     },
     "metadata": {},
     "output_type": "display_data"
    }
   ],
   "source": [
    "import matplotlib.pyplot as plt\n",
    "logs = rf.make_inspector().training_logs()\n",
    "plt.plot([log.num_trees for log in logs], [log.evaluation.accuracy for log in logs])\n",
    "plt.xlabel(\"Number of trees\")\n",
    "plt.ylabel(\"Accuracy (out-of-bag)\")\n",
    "plt.show()"
   ]
  },
  {
   "cell_type": "markdown",
   "id": "4e876326",
   "metadata": {
    "id": "N24V7vhAmnjb",
    "papermill": {
     "duration": 0.023916,
     "end_time": "2023-11-14T00:41:17.376557",
     "exception": false,
     "start_time": "2023-11-14T00:41:17.352641",
     "status": "completed"
    },
    "tags": []
   },
   "source": [
    "We can also see some general stats on the OOB dataset:"
   ]
  },
  {
   "cell_type": "code",
   "execution_count": 24,
   "id": "7d5a2484",
   "metadata": {
    "execution": {
     "iopub.execute_input": "2023-11-14T00:41:17.427743Z",
     "iopub.status.busy": "2023-11-14T00:41:17.426661Z",
     "iopub.status.idle": "2023-11-14T00:41:17.439831Z",
     "shell.execute_reply": "2023-11-14T00:41:17.438697Z"
    },
    "id": "QTD92zMGmnjc",
    "papermill": {
     "duration": 0.041955,
     "end_time": "2023-11-14T00:41:17.442652",
     "exception": false,
     "start_time": "2023-11-14T00:41:17.400697",
     "status": "completed"
    },
    "tags": []
   },
   "outputs": [
    {
     "data": {
      "text/plain": [
       "Evaluation(num_examples=6953, accuracy=0.796922191859629, loss=0.554201642140212, rmse=None, ndcg=None, aucs=None, auuc=None, qini=None)"
      ]
     },
     "execution_count": 24,
     "metadata": {},
     "output_type": "execute_result"
    }
   ],
   "source": [
    "inspector = rf.make_inspector()\n",
    "inspector.evaluation()"
   ]
  },
  {
   "cell_type": "markdown",
   "id": "c1c23183",
   "metadata": {
    "id": "SuVS0BGXmnjd",
    "papermill": {
     "duration": 0.025044,
     "end_time": "2023-11-14T00:41:17.493302",
     "exception": false,
     "start_time": "2023-11-14T00:41:17.468258",
     "status": "completed"
    },
    "tags": []
   },
   "source": [
    "Now, let us run an evaluation using the validation dataset."
   ]
  },
  {
   "cell_type": "code",
   "execution_count": 25,
   "id": "0cf8bfef",
   "metadata": {
    "execution": {
     "iopub.execute_input": "2023-11-14T00:41:17.546573Z",
     "iopub.status.busy": "2023-11-14T00:41:17.545043Z",
     "iopub.status.idle": "2023-11-14T00:41:18.438981Z",
     "shell.execute_reply": "2023-11-14T00:41:18.437328Z"
    },
    "id": "C0SfSxc0mnjd",
    "papermill": {
     "duration": 0.923941,
     "end_time": "2023-11-14T00:41:18.442242",
     "exception": false,
     "start_time": "2023-11-14T00:41:17.518301",
     "status": "completed"
    },
    "tags": []
   },
   "outputs": [
    {
     "name": "stdout",
     "output_type": "stream",
     "text": [
      "2/2 [==============================] - 1s 81ms/step - loss: 0.0000e+00 - accuracy: 0.7891\n",
      "loss: 0.0000\n",
      "accuracy: 0.7891\n"
     ]
    }
   ],
   "source": [
    "evaluation = rf.evaluate(x=valid_ds,return_dict=True)\n",
    "\n",
    "for name, value in evaluation.items():\n",
    "  print(f\"{name}: {value:.4f}\")"
   ]
  },
  {
   "cell_type": "markdown",
   "id": "a6546b98",
   "metadata": {
    "id": "cgAI1XrVmnje",
    "papermill": {
     "duration": 0.023975,
     "end_time": "2023-11-14T00:41:18.490975",
     "exception": false,
     "start_time": "2023-11-14T00:41:18.467000",
     "status": "completed"
    },
    "tags": []
   },
   "source": [
    "# Variable importances\n",
    "\n",
    "Variable importances generally indicate how much a feature contributes to the model predictions or quality. There are several ways to identify important features using TensorFlow Decision Forests.\n",
    "Let us list the available `Variable Importances` for Decision Trees:"
   ]
  },
  {
   "cell_type": "code",
   "execution_count": 26,
   "id": "ae78c472",
   "metadata": {
    "execution": {
     "iopub.execute_input": "2023-11-14T00:41:18.542759Z",
     "iopub.status.busy": "2023-11-14T00:41:18.542193Z",
     "iopub.status.idle": "2023-11-14T00:41:18.550349Z",
     "shell.execute_reply": "2023-11-14T00:41:18.549265Z"
    },
    "id": "BdPN_fV1mnje",
    "papermill": {
     "duration": 0.038138,
     "end_time": "2023-11-14T00:41:18.553420",
     "exception": false,
     "start_time": "2023-11-14T00:41:18.515282",
     "status": "completed"
    },
    "tags": []
   },
   "outputs": [
    {
     "name": "stdout",
     "output_type": "stream",
     "text": [
      "Available variable importances:\n",
      "\t NUM_NODES\n",
      "\t INV_MEAN_MIN_DEPTH\n",
      "\t NUM_AS_ROOT\n",
      "\t SUM_SCORE\n"
     ]
    }
   ],
   "source": [
    "print(f\"Available variable importances:\")\n",
    "for importance in inspector.variable_importances().keys():\n",
    "  print(\"\\t\", importance)"
   ]
  },
  {
   "cell_type": "markdown",
   "id": "dbdf21f8",
   "metadata": {
    "id": "dr-nVQwCmnje",
    "papermill": {
     "duration": 0.023957,
     "end_time": "2023-11-14T00:41:18.601977",
     "exception": false,
     "start_time": "2023-11-14T00:41:18.578020",
     "status": "completed"
    },
    "tags": []
   },
   "source": [
    "As an example, let us display the important features for the Variable Importance `NUM_AS_ROOT`.\n",
    "\n",
    "The larger the importance score for `NUM_AS_ROOT`, the more impact it has on the outcome of the model.\n",
    "\n",
    "By default, the list is sorted from the most important to the least. From the output you can infer that the feature at the top of the list is used as the root node in most number of trees in the random forest than any other feature."
   ]
  },
  {
   "cell_type": "code",
   "execution_count": 27,
   "id": "7dd52e81",
   "metadata": {
    "execution": {
     "iopub.execute_input": "2023-11-14T00:41:18.653694Z",
     "iopub.status.busy": "2023-11-14T00:41:18.653182Z",
     "iopub.status.idle": "2023-11-14T00:41:18.663536Z",
     "shell.execute_reply": "2023-11-14T00:41:18.662102Z"
    },
    "id": "etYOifhfmnje",
    "papermill": {
     "duration": 0.040159,
     "end_time": "2023-11-14T00:41:18.666662",
     "exception": false,
     "start_time": "2023-11-14T00:41:18.626503",
     "status": "completed"
    },
    "tags": []
   },
   "outputs": [
    {
     "data": {
      "text/plain": [
       "[(\"CryoSleep\" (1; #2), 126.0),\n",
       " (\"RoomService\" (1; #7), 54.0),\n",
       " (\"Spa\" (1; #10), 48.0),\n",
       " (\"VRDeck\" (1; #12), 44.0),\n",
       " (\"ShoppingMall\" (1; #8), 14.0),\n",
       " (\"FoodCourt\" (1; #5), 9.0),\n",
       " (\"HomePlanet\" (4; #6), 3.0),\n",
       " (\"Deck\" (4; #3), 2.0)]"
      ]
     },
     "execution_count": 27,
     "metadata": {},
     "output_type": "execute_result"
    }
   ],
   "source": [
    "# Each line is: (feature name, (index of the feature), importance score)\n",
    "inspector.variable_importances()[\"NUM_AS_ROOT\"]"
   ]
  },
  {
   "cell_type": "markdown",
   "id": "42ca00bf",
   "metadata": {
    "id": "DAtAR0vkmnje",
    "papermill": {
     "duration": 0.025099,
     "end_time": "2023-11-14T00:41:18.717388",
     "exception": false,
     "start_time": "2023-11-14T00:41:18.692289",
     "status": "completed"
    },
    "tags": []
   },
   "source": [
    "# Submission"
   ]
  },
  {
   "cell_type": "code",
   "execution_count": 28,
   "id": "3347e8e1",
   "metadata": {
    "execution": {
     "iopub.execute_input": "2023-11-14T00:41:18.771734Z",
     "iopub.status.busy": "2023-11-14T00:41:18.770262Z",
     "iopub.status.idle": "2023-11-14T00:41:19.583507Z",
     "shell.execute_reply": "2023-11-14T00:41:19.581895Z"
    },
    "id": "KHBRzBD9mnjf",
    "papermill": {
     "duration": 0.843942,
     "end_time": "2023-11-14T00:41:19.586866",
     "exception": false,
     "start_time": "2023-11-14T00:41:18.742924",
     "status": "completed"
    },
    "tags": []
   },
   "outputs": [
    {
     "name": "stdout",
     "output_type": "stream",
     "text": [
      "5/5 [==============================] - 1s 86ms/step\n"
     ]
    },
    {
     "data": {
      "text/html": [
       "<div>\n",
       "<style scoped>\n",
       "    .dataframe tbody tr th:only-of-type {\n",
       "        vertical-align: middle;\n",
       "    }\n",
       "\n",
       "    .dataframe tbody tr th {\n",
       "        vertical-align: top;\n",
       "    }\n",
       "\n",
       "    .dataframe thead th {\n",
       "        text-align: right;\n",
       "    }\n",
       "</style>\n",
       "<table border=\"1\" class=\"dataframe\">\n",
       "  <thead>\n",
       "    <tr style=\"text-align: right;\">\n",
       "      <th></th>\n",
       "      <th>PassengerId</th>\n",
       "      <th>Transported</th>\n",
       "    </tr>\n",
       "  </thead>\n",
       "  <tbody>\n",
       "    <tr>\n",
       "      <th>0</th>\n",
       "      <td>0013_01</td>\n",
       "      <td>True</td>\n",
       "    </tr>\n",
       "    <tr>\n",
       "      <th>1</th>\n",
       "      <td>0018_01</td>\n",
       "      <td>False</td>\n",
       "    </tr>\n",
       "    <tr>\n",
       "      <th>2</th>\n",
       "      <td>0019_01</td>\n",
       "      <td>True</td>\n",
       "    </tr>\n",
       "    <tr>\n",
       "      <th>3</th>\n",
       "      <td>0021_01</td>\n",
       "      <td>True</td>\n",
       "    </tr>\n",
       "    <tr>\n",
       "      <th>4</th>\n",
       "      <td>0023_01</td>\n",
       "      <td>False</td>\n",
       "    </tr>\n",
       "  </tbody>\n",
       "</table>\n",
       "</div>"
      ],
      "text/plain": [
       "  PassengerId  Transported\n",
       "0     0013_01         True\n",
       "1     0018_01        False\n",
       "2     0019_01         True\n",
       "3     0021_01         True\n",
       "4     0023_01        False"
      ]
     },
     "execution_count": 28,
     "metadata": {},
     "output_type": "execute_result"
    }
   ],
   "source": [
    "# Load the test dataset\n",
    "test_df = pd.read_csv('/kaggle/input/spaceship-titanic/test.csv')\n",
    "submission_id = test_df.PassengerId\n",
    "\n",
    "# Replace NaN values with zero\n",
    "test_df[['VIP', 'CryoSleep']] = test_df[['VIP', 'CryoSleep']].fillna(value=0)\n",
    "\n",
    "# Creating New Features - Deck, Cabin_num and Side from the column Cabin and remove Cabin\n",
    "test_df[[\"Deck\", \"Cabin_num\", \"Side\"]] = test_df[\"Cabin\"].str.split(\"/\", expand=True)\n",
    "test_df = test_df.drop('Cabin', axis=1)\n",
    "\n",
    "# Convert boolean to 1's and 0's\n",
    "test_df['VIP'] = test_df['VIP'].astype(int)\n",
    "test_df['CryoSleep'] = test_df['CryoSleep'].astype(int)\n",
    "\n",
    "# Convert pd dataframe to tf dataset\n",
    "test_ds = tfdf.keras.pd_dataframe_to_tf_dataset(test_df)\n",
    "\n",
    "# Get the predictions for testdata\n",
    "predictions = rf.predict(test_ds)\n",
    "n_predictions = (predictions > 0.5).astype(bool)\n",
    "output = pd.DataFrame({'PassengerId': submission_id,\n",
    "                       'Transported': n_predictions.squeeze()})\n",
    "\n",
    "output.head()"
   ]
  },
  {
   "cell_type": "code",
   "execution_count": 29,
   "id": "b906e8b0",
   "metadata": {
    "execution": {
     "iopub.execute_input": "2023-11-14T00:41:19.641373Z",
     "iopub.status.busy": "2023-11-14T00:41:19.640784Z",
     "iopub.status.idle": "2023-11-14T00:41:19.687969Z",
     "shell.execute_reply": "2023-11-14T00:41:19.686108Z"
    },
    "id": "OZuB6CdUmnjf",
    "papermill": {
     "duration": 0.078829,
     "end_time": "2023-11-14T00:41:19.691583",
     "exception": false,
     "start_time": "2023-11-14T00:41:19.612754",
     "status": "completed"
    },
    "tags": []
   },
   "outputs": [
    {
     "data": {
      "text/html": [
       "<div>\n",
       "<style scoped>\n",
       "    .dataframe tbody tr th:only-of-type {\n",
       "        vertical-align: middle;\n",
       "    }\n",
       "\n",
       "    .dataframe tbody tr th {\n",
       "        vertical-align: top;\n",
       "    }\n",
       "\n",
       "    .dataframe thead th {\n",
       "        text-align: right;\n",
       "    }\n",
       "</style>\n",
       "<table border=\"1\" class=\"dataframe\">\n",
       "  <thead>\n",
       "    <tr style=\"text-align: right;\">\n",
       "      <th></th>\n",
       "      <th>PassengerId</th>\n",
       "      <th>Transported</th>\n",
       "    </tr>\n",
       "  </thead>\n",
       "  <tbody>\n",
       "    <tr>\n",
       "      <th>0</th>\n",
       "      <td>0013_01</td>\n",
       "      <td>True</td>\n",
       "    </tr>\n",
       "    <tr>\n",
       "      <th>1</th>\n",
       "      <td>0018_01</td>\n",
       "      <td>False</td>\n",
       "    </tr>\n",
       "    <tr>\n",
       "      <th>2</th>\n",
       "      <td>0019_01</td>\n",
       "      <td>True</td>\n",
       "    </tr>\n",
       "    <tr>\n",
       "      <th>3</th>\n",
       "      <td>0021_01</td>\n",
       "      <td>True</td>\n",
       "    </tr>\n",
       "    <tr>\n",
       "      <th>4</th>\n",
       "      <td>0023_01</td>\n",
       "      <td>False</td>\n",
       "    </tr>\n",
       "  </tbody>\n",
       "</table>\n",
       "</div>"
      ],
      "text/plain": [
       "  PassengerId  Transported\n",
       "0     0013_01         True\n",
       "1     0018_01        False\n",
       "2     0019_01         True\n",
       "3     0021_01         True\n",
       "4     0023_01        False"
      ]
     },
     "execution_count": 29,
     "metadata": {},
     "output_type": "execute_result"
    }
   ],
   "source": [
    "sample_submission_df = pd.read_csv('/kaggle/input/spaceship-titanic/sample_submission.csv')\n",
    "sample_submission_df['Transported'] = n_predictions\n",
    "sample_submission_df.to_csv('/kaggle/working/submission.csv', index=False)\n",
    "sample_submission_df.head()"
   ]
  }
 ],
 "metadata": {
  "kaggle": {
   "accelerator": "none",
   "dataSources": [
    {
     "databundleVersionId": 3220602,
     "sourceId": 34377,
     "sourceType": "competition"
    }
   ],
   "dockerImageVersionId": 30407,
   "isGpuEnabled": false,
   "isInternetEnabled": true,
   "language": "python",
   "sourceType": "notebook"
  },
  "kernelspec": {
   "display_name": "Python 3",
   "language": "python",
   "name": "python3"
  },
  "language_info": {
   "codemirror_mode": {
    "name": "ipython",
    "version": 3
   },
   "file_extension": ".py",
   "mimetype": "text/x-python",
   "name": "python",
   "nbconvert_exporter": "python",
   "pygments_lexer": "ipython3",
   "version": "3.7.12"
  },
  "papermill": {
   "default_parameters": {},
   "duration": 106.783805,
   "end_time": "2023-11-14T00:41:22.438893",
   "environment_variables": {},
   "exception": null,
   "input_path": "__notebook__.ipynb",
   "output_path": "__notebook__.ipynb",
   "parameters": {},
   "start_time": "2023-11-14T00:39:35.655088",
   "version": "2.4.0"
  }
 },
 "nbformat": 4,
 "nbformat_minor": 5
}
